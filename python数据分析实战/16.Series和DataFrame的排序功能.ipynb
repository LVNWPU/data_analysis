{
 "cells": [
  {
   "cell_type": "code",
   "execution_count": 1,
   "metadata": {
    "collapsed": true
   },
   "outputs": [],
   "source": [
    "import numpy as np\n",
    "import pandas as pd\n",
    "from pandas import DataFrame, Series"
   ]
  },
  {
   "cell_type": "markdown",
   "metadata": {},
   "source": [
    "# Series的排序"
   ]
  },
  {
   "cell_type": "code",
   "execution_count": 3,
   "metadata": {
    "collapsed": true
   },
   "outputs": [],
   "source": [
    "s1 = Series(np.random.randn(10))"
   ]
  },
  {
   "cell_type": "code",
   "execution_count": 4,
   "metadata": {
    "collapsed": false
   },
   "outputs": [
    {
     "data": {
      "text/plain": [
       "0   -0.715670\n",
       "1   -1.149533\n",
       "2    0.731831\n",
       "3   -0.513945\n",
       "4   -0.080434\n",
       "5    0.027581\n",
       "6    0.422544\n",
       "7   -0.225699\n",
       "8   -0.804092\n",
       "9   -0.349995\n",
       "dtype: float64"
      ]
     },
     "execution_count": 4,
     "metadata": {},
     "output_type": "execute_result"
    }
   ],
   "source": [
    "s1"
   ]
  },
  {
   "cell_type": "code",
   "execution_count": 5,
   "metadata": {
    "collapsed": false
   },
   "outputs": [
    {
     "data": {
      "text/plain": [
       "array([-0.71566978, -1.14953344,  0.73183099, -0.51394465, -0.0804337 ,\n",
       "        0.02758147,  0.42254416, -0.22569924, -0.80409242, -0.34999467])"
      ]
     },
     "execution_count": 5,
     "metadata": {},
     "output_type": "execute_result"
    }
   ],
   "source": [
    "s1.values"
   ]
  },
  {
   "cell_type": "code",
   "execution_count": 6,
   "metadata": {
    "collapsed": false
   },
   "outputs": [
    {
     "data": {
      "text/plain": [
       "RangeIndex(start=0, stop=10, step=1)"
      ]
     },
     "execution_count": 6,
     "metadata": {},
     "output_type": "execute_result"
    }
   ],
   "source": [
    "s1.index"
   ]
  },
  {
   "cell_type": "code",
   "execution_count": 7,
   "metadata": {
    "collapsed": true
   },
   "outputs": [],
   "source": [
    "s2 = s1.sort_values()"
   ]
  },
  {
   "cell_type": "code",
   "execution_count": 8,
   "metadata": {
    "collapsed": false
   },
   "outputs": [
    {
     "data": {
      "text/plain": [
       "1   -1.149533\n",
       "8   -0.804092\n",
       "0   -0.715670\n",
       "3   -0.513945\n",
       "9   -0.349995\n",
       "7   -0.225699\n",
       "4   -0.080434\n",
       "5    0.027581\n",
       "6    0.422544\n",
       "2    0.731831\n",
       "dtype: float64"
      ]
     },
     "execution_count": 8,
     "metadata": {},
     "output_type": "execute_result"
    }
   ],
   "source": [
    "s2"
   ]
  },
  {
   "cell_type": "code",
   "execution_count": 11,
   "metadata": {
    "collapsed": true
   },
   "outputs": [],
   "source": [
    "s2 = s1.sort_values(ascending=False)  #降序排列"
   ]
  },
  {
   "cell_type": "code",
   "execution_count": 12,
   "metadata": {
    "collapsed": false
   },
   "outputs": [
    {
     "data": {
      "text/plain": [
       "2    0.731831\n",
       "6    0.422544\n",
       "5    0.027581\n",
       "4   -0.080434\n",
       "7   -0.225699\n",
       "9   -0.349995\n",
       "3   -0.513945\n",
       "0   -0.715670\n",
       "8   -0.804092\n",
       "1   -1.149533\n",
       "dtype: float64"
      ]
     },
     "execution_count": 12,
     "metadata": {},
     "output_type": "execute_result"
    }
   ],
   "source": [
    "s2"
   ]
  },
  {
   "cell_type": "code",
   "execution_count": 13,
   "metadata": {
    "collapsed": false
   },
   "outputs": [
    {
     "data": {
      "text/plain": [
       "0   -0.715670\n",
       "1   -1.149533\n",
       "2    0.731831\n",
       "3   -0.513945\n",
       "4   -0.080434\n",
       "5    0.027581\n",
       "6    0.422544\n",
       "7   -0.225699\n",
       "8   -0.804092\n",
       "9   -0.349995\n",
       "dtype: float64"
      ]
     },
     "execution_count": 13,
     "metadata": {},
     "output_type": "execute_result"
    }
   ],
   "source": [
    "s2.sort_index()"
   ]
  },
  {
   "cell_type": "markdown",
   "metadata": {},
   "source": [
    "# DataFrame的排序"
   ]
  },
  {
   "cell_type": "code",
   "execution_count": 15,
   "metadata": {
    "collapsed": true
   },
   "outputs": [],
   "source": [
    "df1 = DataFrame(np.random.randn(40).reshape(8, 5), columns=['A', 'B', 'C', 'D', 'E'])"
   ]
  },
  {
   "cell_type": "code",
   "execution_count": 16,
   "metadata": {
    "collapsed": false
   },
   "outputs": [
    {
     "data": {
      "text/html": [
       "<div>\n",
       "<table border=\"1\" class=\"dataframe\">\n",
       "  <thead>\n",
       "    <tr style=\"text-align: right;\">\n",
       "      <th></th>\n",
       "      <th>A</th>\n",
       "      <th>B</th>\n",
       "      <th>C</th>\n",
       "      <th>D</th>\n",
       "      <th>E</th>\n",
       "    </tr>\n",
       "  </thead>\n",
       "  <tbody>\n",
       "    <tr>\n",
       "      <th>0</th>\n",
       "      <td>0.333249</td>\n",
       "      <td>0.057957</td>\n",
       "      <td>0.005205</td>\n",
       "      <td>0.224706</td>\n",
       "      <td>-0.075227</td>\n",
       "    </tr>\n",
       "    <tr>\n",
       "      <th>1</th>\n",
       "      <td>-0.530027</td>\n",
       "      <td>-1.747375</td>\n",
       "      <td>-0.455283</td>\n",
       "      <td>0.103543</td>\n",
       "      <td>0.176214</td>\n",
       "    </tr>\n",
       "    <tr>\n",
       "      <th>2</th>\n",
       "      <td>0.054822</td>\n",
       "      <td>-1.563994</td>\n",
       "      <td>0.730226</td>\n",
       "      <td>-0.412853</td>\n",
       "      <td>-0.688941</td>\n",
       "    </tr>\n",
       "    <tr>\n",
       "      <th>3</th>\n",
       "      <td>-0.000568</td>\n",
       "      <td>0.630129</td>\n",
       "      <td>-0.484723</td>\n",
       "      <td>-0.920198</td>\n",
       "      <td>-0.082715</td>\n",
       "    </tr>\n",
       "    <tr>\n",
       "      <th>4</th>\n",
       "      <td>0.705848</td>\n",
       "      <td>-0.788728</td>\n",
       "      <td>0.410342</td>\n",
       "      <td>1.262061</td>\n",
       "      <td>-0.393312</td>\n",
       "    </tr>\n",
       "    <tr>\n",
       "      <th>5</th>\n",
       "      <td>0.147704</td>\n",
       "      <td>0.974662</td>\n",
       "      <td>-0.630552</td>\n",
       "      <td>-1.650906</td>\n",
       "      <td>0.591723</td>\n",
       "    </tr>\n",
       "    <tr>\n",
       "      <th>6</th>\n",
       "      <td>-0.540302</td>\n",
       "      <td>0.379446</td>\n",
       "      <td>-0.647545</td>\n",
       "      <td>1.126251</td>\n",
       "      <td>-1.780082</td>\n",
       "    </tr>\n",
       "    <tr>\n",
       "      <th>7</th>\n",
       "      <td>-0.781614</td>\n",
       "      <td>0.922827</td>\n",
       "      <td>1.600980</td>\n",
       "      <td>0.512031</td>\n",
       "      <td>-0.046272</td>\n",
       "    </tr>\n",
       "  </tbody>\n",
       "</table>\n",
       "</div>"
      ],
      "text/plain": [
       "          A         B         C         D         E\n",
       "0  0.333249  0.057957  0.005205  0.224706 -0.075227\n",
       "1 -0.530027 -1.747375 -0.455283  0.103543  0.176214\n",
       "2  0.054822 -1.563994  0.730226 -0.412853 -0.688941\n",
       "3 -0.000568  0.630129 -0.484723 -0.920198 -0.082715\n",
       "4  0.705848 -0.788728  0.410342  1.262061 -0.393312\n",
       "5  0.147704  0.974662 -0.630552 -1.650906  0.591723\n",
       "6 -0.540302  0.379446 -0.647545  1.126251 -1.780082\n",
       "7 -0.781614  0.922827  1.600980  0.512031 -0.046272"
      ]
     },
     "execution_count": 16,
     "metadata": {},
     "output_type": "execute_result"
    }
   ],
   "source": [
    "df1"
   ]
  },
  {
   "cell_type": "code",
   "execution_count": 17,
   "metadata": {
    "collapsed": false
   },
   "outputs": [
    {
     "data": {
      "text/plain": [
       "7   -0.781614\n",
       "6   -0.540302\n",
       "1   -0.530027\n",
       "3   -0.000568\n",
       "2    0.054822\n",
       "5    0.147704\n",
       "0    0.333249\n",
       "4    0.705848\n",
       "Name: A, dtype: float64"
      ]
     },
     "execution_count": 17,
     "metadata": {},
     "output_type": "execute_result"
    }
   ],
   "source": [
    "df1['A'].sort_values()"
   ]
  },
  {
   "cell_type": "code",
   "execution_count": 18,
   "metadata": {
    "collapsed": false
   },
   "outputs": [
    {
     "data": {
      "text/html": [
       "<div>\n",
       "<table border=\"1\" class=\"dataframe\">\n",
       "  <thead>\n",
       "    <tr style=\"text-align: right;\">\n",
       "      <th></th>\n",
       "      <th>A</th>\n",
       "      <th>B</th>\n",
       "      <th>C</th>\n",
       "      <th>D</th>\n",
       "      <th>E</th>\n",
       "    </tr>\n",
       "  </thead>\n",
       "  <tbody>\n",
       "    <tr>\n",
       "      <th>7</th>\n",
       "      <td>-0.781614</td>\n",
       "      <td>0.922827</td>\n",
       "      <td>1.600980</td>\n",
       "      <td>0.512031</td>\n",
       "      <td>-0.046272</td>\n",
       "    </tr>\n",
       "    <tr>\n",
       "      <th>6</th>\n",
       "      <td>-0.540302</td>\n",
       "      <td>0.379446</td>\n",
       "      <td>-0.647545</td>\n",
       "      <td>1.126251</td>\n",
       "      <td>-1.780082</td>\n",
       "    </tr>\n",
       "    <tr>\n",
       "      <th>1</th>\n",
       "      <td>-0.530027</td>\n",
       "      <td>-1.747375</td>\n",
       "      <td>-0.455283</td>\n",
       "      <td>0.103543</td>\n",
       "      <td>0.176214</td>\n",
       "    </tr>\n",
       "    <tr>\n",
       "      <th>3</th>\n",
       "      <td>-0.000568</td>\n",
       "      <td>0.630129</td>\n",
       "      <td>-0.484723</td>\n",
       "      <td>-0.920198</td>\n",
       "      <td>-0.082715</td>\n",
       "    </tr>\n",
       "    <tr>\n",
       "      <th>2</th>\n",
       "      <td>0.054822</td>\n",
       "      <td>-1.563994</td>\n",
       "      <td>0.730226</td>\n",
       "      <td>-0.412853</td>\n",
       "      <td>-0.688941</td>\n",
       "    </tr>\n",
       "    <tr>\n",
       "      <th>5</th>\n",
       "      <td>0.147704</td>\n",
       "      <td>0.974662</td>\n",
       "      <td>-0.630552</td>\n",
       "      <td>-1.650906</td>\n",
       "      <td>0.591723</td>\n",
       "    </tr>\n",
       "    <tr>\n",
       "      <th>0</th>\n",
       "      <td>0.333249</td>\n",
       "      <td>0.057957</td>\n",
       "      <td>0.005205</td>\n",
       "      <td>0.224706</td>\n",
       "      <td>-0.075227</td>\n",
       "    </tr>\n",
       "    <tr>\n",
       "      <th>4</th>\n",
       "      <td>0.705848</td>\n",
       "      <td>-0.788728</td>\n",
       "      <td>0.410342</td>\n",
       "      <td>1.262061</td>\n",
       "      <td>-0.393312</td>\n",
       "    </tr>\n",
       "  </tbody>\n",
       "</table>\n",
       "</div>"
      ],
      "text/plain": [
       "          A         B         C         D         E\n",
       "7 -0.781614  0.922827  1.600980  0.512031 -0.046272\n",
       "6 -0.540302  0.379446 -0.647545  1.126251 -1.780082\n",
       "1 -0.530027 -1.747375 -0.455283  0.103543  0.176214\n",
       "3 -0.000568  0.630129 -0.484723 -0.920198 -0.082715\n",
       "2  0.054822 -1.563994  0.730226 -0.412853 -0.688941\n",
       "5  0.147704  0.974662 -0.630552 -1.650906  0.591723\n",
       "0  0.333249  0.057957  0.005205  0.224706 -0.075227\n",
       "4  0.705848 -0.788728  0.410342  1.262061 -0.393312"
      ]
     },
     "execution_count": 18,
     "metadata": {},
     "output_type": "execute_result"
    }
   ],
   "source": [
    "df1.sort_values('A')"
   ]
  },
  {
   "cell_type": "code",
   "execution_count": 19,
   "metadata": {
    "collapsed": false
   },
   "outputs": [
    {
     "data": {
      "text/html": [
       "<div>\n",
       "<table border=\"1\" class=\"dataframe\">\n",
       "  <thead>\n",
       "    <tr style=\"text-align: right;\">\n",
       "      <th></th>\n",
       "      <th>A</th>\n",
       "      <th>B</th>\n",
       "      <th>C</th>\n",
       "      <th>D</th>\n",
       "      <th>E</th>\n",
       "    </tr>\n",
       "  </thead>\n",
       "  <tbody>\n",
       "    <tr>\n",
       "      <th>4</th>\n",
       "      <td>0.705848</td>\n",
       "      <td>-0.788728</td>\n",
       "      <td>0.410342</td>\n",
       "      <td>1.262061</td>\n",
       "      <td>-0.393312</td>\n",
       "    </tr>\n",
       "    <tr>\n",
       "      <th>0</th>\n",
       "      <td>0.333249</td>\n",
       "      <td>0.057957</td>\n",
       "      <td>0.005205</td>\n",
       "      <td>0.224706</td>\n",
       "      <td>-0.075227</td>\n",
       "    </tr>\n",
       "    <tr>\n",
       "      <th>5</th>\n",
       "      <td>0.147704</td>\n",
       "      <td>0.974662</td>\n",
       "      <td>-0.630552</td>\n",
       "      <td>-1.650906</td>\n",
       "      <td>0.591723</td>\n",
       "    </tr>\n",
       "    <tr>\n",
       "      <th>2</th>\n",
       "      <td>0.054822</td>\n",
       "      <td>-1.563994</td>\n",
       "      <td>0.730226</td>\n",
       "      <td>-0.412853</td>\n",
       "      <td>-0.688941</td>\n",
       "    </tr>\n",
       "    <tr>\n",
       "      <th>3</th>\n",
       "      <td>-0.000568</td>\n",
       "      <td>0.630129</td>\n",
       "      <td>-0.484723</td>\n",
       "      <td>-0.920198</td>\n",
       "      <td>-0.082715</td>\n",
       "    </tr>\n",
       "    <tr>\n",
       "      <th>1</th>\n",
       "      <td>-0.530027</td>\n",
       "      <td>-1.747375</td>\n",
       "      <td>-0.455283</td>\n",
       "      <td>0.103543</td>\n",
       "      <td>0.176214</td>\n",
       "    </tr>\n",
       "    <tr>\n",
       "      <th>6</th>\n",
       "      <td>-0.540302</td>\n",
       "      <td>0.379446</td>\n",
       "      <td>-0.647545</td>\n",
       "      <td>1.126251</td>\n",
       "      <td>-1.780082</td>\n",
       "    </tr>\n",
       "    <tr>\n",
       "      <th>7</th>\n",
       "      <td>-0.781614</td>\n",
       "      <td>0.922827</td>\n",
       "      <td>1.600980</td>\n",
       "      <td>0.512031</td>\n",
       "      <td>-0.046272</td>\n",
       "    </tr>\n",
       "  </tbody>\n",
       "</table>\n",
       "</div>"
      ],
      "text/plain": [
       "          A         B         C         D         E\n",
       "4  0.705848 -0.788728  0.410342  1.262061 -0.393312\n",
       "0  0.333249  0.057957  0.005205  0.224706 -0.075227\n",
       "5  0.147704  0.974662 -0.630552 -1.650906  0.591723\n",
       "2  0.054822 -1.563994  0.730226 -0.412853 -0.688941\n",
       "3 -0.000568  0.630129 -0.484723 -0.920198 -0.082715\n",
       "1 -0.530027 -1.747375 -0.455283  0.103543  0.176214\n",
       "6 -0.540302  0.379446 -0.647545  1.126251 -1.780082\n",
       "7 -0.781614  0.922827  1.600980  0.512031 -0.046272"
      ]
     },
     "execution_count": 19,
     "metadata": {},
     "output_type": "execute_result"
    }
   ],
   "source": [
    "df1.sort_values('A', ascending=False)"
   ]
  },
  {
   "cell_type": "code",
   "execution_count": 20,
   "metadata": {
    "collapsed": true
   },
   "outputs": [],
   "source": [
    "df2 = df1.sort_values('A')"
   ]
  },
  {
   "cell_type": "code",
   "execution_count": 21,
   "metadata": {
    "collapsed": false
   },
   "outputs": [
    {
     "data": {
      "text/html": [
       "<div>\n",
       "<table border=\"1\" class=\"dataframe\">\n",
       "  <thead>\n",
       "    <tr style=\"text-align: right;\">\n",
       "      <th></th>\n",
       "      <th>A</th>\n",
       "      <th>B</th>\n",
       "      <th>C</th>\n",
       "      <th>D</th>\n",
       "      <th>E</th>\n",
       "    </tr>\n",
       "  </thead>\n",
       "  <tbody>\n",
       "    <tr>\n",
       "      <th>7</th>\n",
       "      <td>-0.781614</td>\n",
       "      <td>0.922827</td>\n",
       "      <td>1.600980</td>\n",
       "      <td>0.512031</td>\n",
       "      <td>-0.046272</td>\n",
       "    </tr>\n",
       "    <tr>\n",
       "      <th>6</th>\n",
       "      <td>-0.540302</td>\n",
       "      <td>0.379446</td>\n",
       "      <td>-0.647545</td>\n",
       "      <td>1.126251</td>\n",
       "      <td>-1.780082</td>\n",
       "    </tr>\n",
       "    <tr>\n",
       "      <th>1</th>\n",
       "      <td>-0.530027</td>\n",
       "      <td>-1.747375</td>\n",
       "      <td>-0.455283</td>\n",
       "      <td>0.103543</td>\n",
       "      <td>0.176214</td>\n",
       "    </tr>\n",
       "    <tr>\n",
       "      <th>3</th>\n",
       "      <td>-0.000568</td>\n",
       "      <td>0.630129</td>\n",
       "      <td>-0.484723</td>\n",
       "      <td>-0.920198</td>\n",
       "      <td>-0.082715</td>\n",
       "    </tr>\n",
       "    <tr>\n",
       "      <th>2</th>\n",
       "      <td>0.054822</td>\n",
       "      <td>-1.563994</td>\n",
       "      <td>0.730226</td>\n",
       "      <td>-0.412853</td>\n",
       "      <td>-0.688941</td>\n",
       "    </tr>\n",
       "    <tr>\n",
       "      <th>5</th>\n",
       "      <td>0.147704</td>\n",
       "      <td>0.974662</td>\n",
       "      <td>-0.630552</td>\n",
       "      <td>-1.650906</td>\n",
       "      <td>0.591723</td>\n",
       "    </tr>\n",
       "    <tr>\n",
       "      <th>0</th>\n",
       "      <td>0.333249</td>\n",
       "      <td>0.057957</td>\n",
       "      <td>0.005205</td>\n",
       "      <td>0.224706</td>\n",
       "      <td>-0.075227</td>\n",
       "    </tr>\n",
       "    <tr>\n",
       "      <th>4</th>\n",
       "      <td>0.705848</td>\n",
       "      <td>-0.788728</td>\n",
       "      <td>0.410342</td>\n",
       "      <td>1.262061</td>\n",
       "      <td>-0.393312</td>\n",
       "    </tr>\n",
       "  </tbody>\n",
       "</table>\n",
       "</div>"
      ],
      "text/plain": [
       "          A         B         C         D         E\n",
       "7 -0.781614  0.922827  1.600980  0.512031 -0.046272\n",
       "6 -0.540302  0.379446 -0.647545  1.126251 -1.780082\n",
       "1 -0.530027 -1.747375 -0.455283  0.103543  0.176214\n",
       "3 -0.000568  0.630129 -0.484723 -0.920198 -0.082715\n",
       "2  0.054822 -1.563994  0.730226 -0.412853 -0.688941\n",
       "5  0.147704  0.974662 -0.630552 -1.650906  0.591723\n",
       "0  0.333249  0.057957  0.005205  0.224706 -0.075227\n",
       "4  0.705848 -0.788728  0.410342  1.262061 -0.393312"
      ]
     },
     "execution_count": 21,
     "metadata": {},
     "output_type": "execute_result"
    }
   ],
   "source": [
    "df2"
   ]
  },
  {
   "cell_type": "code",
   "execution_count": 22,
   "metadata": {
    "collapsed": false
   },
   "outputs": [
    {
     "data": {
      "text/html": [
       "<div>\n",
       "<table border=\"1\" class=\"dataframe\">\n",
       "  <thead>\n",
       "    <tr style=\"text-align: right;\">\n",
       "      <th></th>\n",
       "      <th>A</th>\n",
       "      <th>B</th>\n",
       "      <th>C</th>\n",
       "      <th>D</th>\n",
       "      <th>E</th>\n",
       "    </tr>\n",
       "  </thead>\n",
       "  <tbody>\n",
       "    <tr>\n",
       "      <th>0</th>\n",
       "      <td>0.333249</td>\n",
       "      <td>0.057957</td>\n",
       "      <td>0.005205</td>\n",
       "      <td>0.224706</td>\n",
       "      <td>-0.075227</td>\n",
       "    </tr>\n",
       "    <tr>\n",
       "      <th>1</th>\n",
       "      <td>-0.530027</td>\n",
       "      <td>-1.747375</td>\n",
       "      <td>-0.455283</td>\n",
       "      <td>0.103543</td>\n",
       "      <td>0.176214</td>\n",
       "    </tr>\n",
       "    <tr>\n",
       "      <th>2</th>\n",
       "      <td>0.054822</td>\n",
       "      <td>-1.563994</td>\n",
       "      <td>0.730226</td>\n",
       "      <td>-0.412853</td>\n",
       "      <td>-0.688941</td>\n",
       "    </tr>\n",
       "    <tr>\n",
       "      <th>3</th>\n",
       "      <td>-0.000568</td>\n",
       "      <td>0.630129</td>\n",
       "      <td>-0.484723</td>\n",
       "      <td>-0.920198</td>\n",
       "      <td>-0.082715</td>\n",
       "    </tr>\n",
       "    <tr>\n",
       "      <th>4</th>\n",
       "      <td>0.705848</td>\n",
       "      <td>-0.788728</td>\n",
       "      <td>0.410342</td>\n",
       "      <td>1.262061</td>\n",
       "      <td>-0.393312</td>\n",
       "    </tr>\n",
       "    <tr>\n",
       "      <th>5</th>\n",
       "      <td>0.147704</td>\n",
       "      <td>0.974662</td>\n",
       "      <td>-0.630552</td>\n",
       "      <td>-1.650906</td>\n",
       "      <td>0.591723</td>\n",
       "    </tr>\n",
       "    <tr>\n",
       "      <th>6</th>\n",
       "      <td>-0.540302</td>\n",
       "      <td>0.379446</td>\n",
       "      <td>-0.647545</td>\n",
       "      <td>1.126251</td>\n",
       "      <td>-1.780082</td>\n",
       "    </tr>\n",
       "    <tr>\n",
       "      <th>7</th>\n",
       "      <td>-0.781614</td>\n",
       "      <td>0.922827</td>\n",
       "      <td>1.600980</td>\n",
       "      <td>0.512031</td>\n",
       "      <td>-0.046272</td>\n",
       "    </tr>\n",
       "  </tbody>\n",
       "</table>\n",
       "</div>"
      ],
      "text/plain": [
       "          A         B         C         D         E\n",
       "0  0.333249  0.057957  0.005205  0.224706 -0.075227\n",
       "1 -0.530027 -1.747375 -0.455283  0.103543  0.176214\n",
       "2  0.054822 -1.563994  0.730226 -0.412853 -0.688941\n",
       "3 -0.000568  0.630129 -0.484723 -0.920198 -0.082715\n",
       "4  0.705848 -0.788728  0.410342  1.262061 -0.393312\n",
       "5  0.147704  0.974662 -0.630552 -1.650906  0.591723\n",
       "6 -0.540302  0.379446 -0.647545  1.126251 -1.780082\n",
       "7 -0.781614  0.922827  1.600980  0.512031 -0.046272"
      ]
     },
     "execution_count": 22,
     "metadata": {},
     "output_type": "execute_result"
    }
   ],
   "source": [
    "df2.sort_index()"
   ]
  },
  {
   "cell_type": "code",
   "execution_count": null,
   "metadata": {
    "collapsed": true
   },
   "outputs": [],
   "source": []
  }
 ],
 "metadata": {
  "anaconda-cloud": {},
  "kernelspec": {
   "display_name": "Python [conda env:Anaconda3]",
   "language": "python",
   "name": "conda-env-Anaconda3-py"
  },
  "language_info": {
   "codemirror_mode": {
    "name": "ipython",
    "version": 3
   },
   "file_extension": ".py",
   "mimetype": "text/x-python",
   "name": "python",
   "nbconvert_exporter": "python",
   "pygments_lexer": "ipython3",
   "version": "3.5.2"
  }
 },
 "nbformat": 4,
 "nbformat_minor": 1
}
