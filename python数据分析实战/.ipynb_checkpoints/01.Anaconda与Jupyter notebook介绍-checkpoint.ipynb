{
 "cells": [
  {
   "cell_type": "markdown",
   "metadata": {},
   "source": [
    "### 数据科学工作流程\n",
    "* #### inquire(用户需求)\n",
    "* #### obtain(数据的获取:爬虫、数据库获取、CSV文件获取、API)\n",
    "* #### scrub(numpy、pandas库进行数据的清洗、分析)\n",
    "* #### explore(matplotlib、seaborn库将数据展示出来,进一步分析)\n",
    "* #### model(sklearn、scipy、tensorflow库对数据进行分析和训练)\n",
    "* #### interpret"
   ]
  },
  {
   "cell_type": "code",
   "execution_count": 1,
   "metadata": {
    "collapsed": false
   },
   "outputs": [
    {
     "ename": "SyntaxError",
     "evalue": "invalid syntax (<ipython-input-1-4de863cc042a>, line 3)",
     "output_type": "error",
     "traceback": [
      "\u001b[0;36m  File \u001b[0;32m\"<ipython-input-1-4de863cc042a>\"\u001b[0;36m, line \u001b[0;32m3\u001b[0m\n\u001b[0;31m    conda create --name python35 python=3.5\u001b[0m\n\u001b[0m               ^\u001b[0m\n\u001b[0;31mSyntaxError\u001b[0m\u001b[0;31m:\u001b[0m invalid syntax\n"
     ]
    }
   ],
   "source": [
    "# conda:package和environment管理\n",
    "# 创建一个新的environment\n",
    "conda create --name python35 python=3.5\n",
    "# 激活environment\n",
    "activate python35(windows)\n",
    "source activate python35(linux)\n",
    "# 删除一个environment\n",
    "conda remove --name python35 --all\n",
    "# 安装一个python包\n",
    "conda install numpy\n",
    "# 查看已经安装的python包\n",
    "conda list\n",
    "conda list -n python35 #(查看指定环境安装的Python包)\n",
    "# 删除一个包\n",
    "conda remove -n python35 numpy\n",
    "# 核心是notebook server\n",
    "# notebook的文件格式(.ipynb)\n"
   ]
  }
 ],
 "metadata": {
  "anaconda-cloud": {},
  "kernelspec": {
   "display_name": "Python [default]",
   "language": "python",
   "name": "python3"
  },
  "language_info": {
   "codemirror_mode": {
    "name": "ipython",
    "version": 3
   },
   "file_extension": ".py",
   "mimetype": "text/x-python",
   "name": "python",
   "nbconvert_exporter": "python",
   "pygments_lexer": "ipython3",
   "version": "3.5.2"
  }
 },
 "nbformat": 4,
 "nbformat_minor": 1
}
