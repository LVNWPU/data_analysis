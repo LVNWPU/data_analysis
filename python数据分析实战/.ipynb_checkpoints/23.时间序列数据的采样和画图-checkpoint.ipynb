{
 "cells": [
  {
   "cell_type": "code",
   "execution_count": 4,
   "metadata": {
    "collapsed": false
   },
   "outputs": [],
   "source": [
    "import numpy as np\n",
    "import pandas as pd\n",
    "from pandas import DataFrame, Series"
   ]
  },
  {
   "cell_type": "code",
   "execution_count": 5,
   "metadata": {
    "collapsed": true
   },
   "outputs": [],
   "source": [
    "t_range = pd.date_range('2016-01-01', '2016-12-31')"
   ]
  },
  {
   "cell_type": "code",
   "execution_count": 6,
   "metadata": {
    "collapsed": false
   },
   "outputs": [
    {
     "data": {
      "text/plain": [
       "DatetimeIndex(['2016-01-01', '2016-01-02', '2016-01-03', '2016-01-04',\n",
       "               '2016-01-05', '2016-01-06', '2016-01-07', '2016-01-08',\n",
       "               '2016-01-09', '2016-01-10',\n",
       "               ...\n",
       "               '2016-12-22', '2016-12-23', '2016-12-24', '2016-12-25',\n",
       "               '2016-12-26', '2016-12-27', '2016-12-28', '2016-12-29',\n",
       "               '2016-12-30', '2016-12-31'],\n",
       "              dtype='datetime64[ns]', length=366, freq='D')"
      ]
     },
     "execution_count": 6,
     "metadata": {},
     "output_type": "execute_result"
    }
   ],
   "source": [
    "t_range"
   ]
  },
  {
   "cell_type": "code",
   "execution_count": 7,
   "metadata": {
    "collapsed": true
   },
   "outputs": [],
   "source": [
    "s1 = Series(np.random.rand(366), index=t_range)"
   ]
  },
  {
   "cell_type": "code",
   "execution_count": 8,
   "metadata": {
    "collapsed": false
   },
   "outputs": [
    {
     "data": {
      "text/plain": [
       "2016-01-01    0.652031\n",
       "2016-01-02    0.579508\n",
       "2016-01-03    0.559003\n",
       "2016-01-04    0.800916\n",
       "2016-01-05    0.351097\n",
       "2016-01-06    0.910936\n",
       "2016-01-07    0.007856\n",
       "2016-01-08    0.343037\n",
       "2016-01-09    0.878256\n",
       "2016-01-10    0.907716\n",
       "2016-01-11    0.691077\n",
       "2016-01-12    0.139316\n",
       "2016-01-13    0.327886\n",
       "2016-01-14    0.098322\n",
       "2016-01-15    0.685224\n",
       "2016-01-16    0.504398\n",
       "2016-01-17    0.522684\n",
       "2016-01-18    0.656476\n",
       "2016-01-19    0.227886\n",
       "2016-01-20    0.375855\n",
       "2016-01-21    0.723927\n",
       "2016-01-22    0.402957\n",
       "2016-01-23    0.886005\n",
       "2016-01-24    0.378675\n",
       "2016-01-25    0.377656\n",
       "2016-01-26    0.882439\n",
       "2016-01-27    0.241450\n",
       "2016-01-28    0.928656\n",
       "2016-01-29    0.336862\n",
       "2016-01-30    0.268467\n",
       "                ...   \n",
       "2016-12-02    0.809853\n",
       "2016-12-03    0.490601\n",
       "2016-12-04    0.979449\n",
       "2016-12-05    0.653240\n",
       "2016-12-06    0.035055\n",
       "2016-12-07    0.508971\n",
       "2016-12-08    0.528866\n",
       "2016-12-09    0.483011\n",
       "2016-12-10    0.868164\n",
       "2016-12-11    0.979500\n",
       "2016-12-12    0.750592\n",
       "2016-12-13    0.867232\n",
       "2016-12-14    0.456647\n",
       "2016-12-15    0.851829\n",
       "2016-12-16    0.234211\n",
       "2016-12-17    0.981617\n",
       "2016-12-18    0.600326\n",
       "2016-12-19    0.383342\n",
       "2016-12-20    0.949351\n",
       "2016-12-21    0.198646\n",
       "2016-12-22    0.636440\n",
       "2016-12-23    0.110198\n",
       "2016-12-24    0.977579\n",
       "2016-12-25    0.792563\n",
       "2016-12-26    0.099922\n",
       "2016-12-27    0.576144\n",
       "2016-12-28    0.680318\n",
       "2016-12-29    0.931666\n",
       "2016-12-30    0.214728\n",
       "2016-12-31    0.229595\n",
       "Freq: D, dtype: float64"
      ]
     },
     "execution_count": 8,
     "metadata": {},
     "output_type": "execute_result"
    }
   ],
   "source": [
    "s1"
   ]
  },
  {
   "cell_type": "code",
   "execution_count": 12,
   "metadata": {
    "collapsed": false
   },
   "outputs": [
    {
     "data": {
      "text/plain": [
       "0.5267510128486873"
      ]
     },
     "execution_count": 12,
     "metadata": {},
     "output_type": "execute_result"
    }
   ],
   "source": [
    "# 采样\n",
    "s1['2016-01'].mean()"
   ]
  },
  {
   "cell_type": "code",
   "execution_count": 13,
   "metadata": {
    "collapsed": true
   },
   "outputs": [],
   "source": [
    "s1_month = s1.resample('M').mean()"
   ]
  },
  {
   "cell_type": "code",
   "execution_count": 15,
   "metadata": {
    "collapsed": false
   },
   "outputs": [
    {
     "data": {
      "text/plain": [
       "DatetimeIndex(['2016-01-31', '2016-02-29', '2016-03-31', '2016-04-30',\n",
       "               '2016-05-31', '2016-06-30', '2016-07-31', '2016-08-31',\n",
       "               '2016-09-30', '2016-10-31', '2016-11-30', '2016-12-31'],\n",
       "              dtype='datetime64[ns]', freq='M')"
      ]
     },
     "execution_count": 15,
     "metadata": {},
     "output_type": "execute_result"
    }
   ],
   "source": [
    "s1_month.index"
   ]
  },
  {
   "cell_type": "code",
   "execution_count": 16,
   "metadata": {
    "collapsed": false
   },
   "outputs": [
    {
     "data": {
      "text/plain": [
       "2016-01-01 00:00:00    0.652031\n",
       "2016-01-01 01:00:00    0.652031\n",
       "2016-01-01 02:00:00    0.652031\n",
       "2016-01-01 03:00:00    0.652031\n",
       "2016-01-01 04:00:00    0.652031\n",
       "2016-01-01 05:00:00    0.652031\n",
       "2016-01-01 06:00:00    0.652031\n",
       "2016-01-01 07:00:00    0.652031\n",
       "2016-01-01 08:00:00    0.652031\n",
       "2016-01-01 09:00:00    0.652031\n",
       "2016-01-01 10:00:00    0.652031\n",
       "2016-01-01 11:00:00    0.652031\n",
       "2016-01-01 12:00:00    0.652031\n",
       "2016-01-01 13:00:00    0.652031\n",
       "2016-01-01 14:00:00    0.652031\n",
       "2016-01-01 15:00:00    0.652031\n",
       "2016-01-01 16:00:00    0.652031\n",
       "2016-01-01 17:00:00    0.652031\n",
       "2016-01-01 18:00:00    0.652031\n",
       "2016-01-01 19:00:00    0.652031\n",
       "2016-01-01 20:00:00    0.652031\n",
       "2016-01-01 21:00:00    0.652031\n",
       "2016-01-01 22:00:00    0.652031\n",
       "2016-01-01 23:00:00    0.652031\n",
       "2016-01-02 00:00:00    0.579508\n",
       "2016-01-02 01:00:00    0.579508\n",
       "2016-01-02 02:00:00    0.579508\n",
       "2016-01-02 03:00:00    0.579508\n",
       "2016-01-02 04:00:00    0.579508\n",
       "2016-01-02 05:00:00    0.579508\n",
       "                         ...   \n",
       "2016-12-29 19:00:00    0.931666\n",
       "2016-12-29 20:00:00    0.931666\n",
       "2016-12-29 21:00:00    0.931666\n",
       "2016-12-29 22:00:00    0.931666\n",
       "2016-12-29 23:00:00    0.931666\n",
       "2016-12-30 00:00:00    0.214728\n",
       "2016-12-30 01:00:00    0.214728\n",
       "2016-12-30 02:00:00    0.214728\n",
       "2016-12-30 03:00:00    0.214728\n",
       "2016-12-30 04:00:00    0.214728\n",
       "2016-12-30 05:00:00    0.214728\n",
       "2016-12-30 06:00:00    0.214728\n",
       "2016-12-30 07:00:00    0.214728\n",
       "2016-12-30 08:00:00    0.214728\n",
       "2016-12-30 09:00:00    0.214728\n",
       "2016-12-30 10:00:00    0.214728\n",
       "2016-12-30 11:00:00    0.214728\n",
       "2016-12-30 12:00:00    0.214728\n",
       "2016-12-30 13:00:00    0.214728\n",
       "2016-12-30 14:00:00    0.214728\n",
       "2016-12-30 15:00:00    0.214728\n",
       "2016-12-30 16:00:00    0.214728\n",
       "2016-12-30 17:00:00    0.214728\n",
       "2016-12-30 18:00:00    0.214728\n",
       "2016-12-30 19:00:00    0.214728\n",
       "2016-12-30 20:00:00    0.214728\n",
       "2016-12-30 21:00:00    0.214728\n",
       "2016-12-30 22:00:00    0.214728\n",
       "2016-12-30 23:00:00    0.214728\n",
       "2016-12-31 00:00:00    0.229595\n",
       "Freq: H, dtype: float64"
      ]
     },
     "execution_count": 16,
     "metadata": {},
     "output_type": "execute_result"
    }
   ],
   "source": [
    "s1.resample('H').ffill()"
   ]
  },
  {
   "cell_type": "code",
   "execution_count": 17,
   "metadata": {
    "collapsed": false
   },
   "outputs": [
    {
     "data": {
      "text/plain": [
       "2016-01-01 00:00:00    0.652031\n",
       "2016-01-01 01:00:00    0.579508\n",
       "2016-01-01 02:00:00    0.579508\n",
       "2016-01-01 03:00:00    0.579508\n",
       "2016-01-01 04:00:00    0.579508\n",
       "2016-01-01 05:00:00    0.579508\n",
       "2016-01-01 06:00:00    0.579508\n",
       "2016-01-01 07:00:00    0.579508\n",
       "2016-01-01 08:00:00    0.579508\n",
       "2016-01-01 09:00:00    0.579508\n",
       "2016-01-01 10:00:00    0.579508\n",
       "2016-01-01 11:00:00    0.579508\n",
       "2016-01-01 12:00:00    0.579508\n",
       "2016-01-01 13:00:00    0.579508\n",
       "2016-01-01 14:00:00    0.579508\n",
       "2016-01-01 15:00:00    0.579508\n",
       "2016-01-01 16:00:00    0.579508\n",
       "2016-01-01 17:00:00    0.579508\n",
       "2016-01-01 18:00:00    0.579508\n",
       "2016-01-01 19:00:00    0.579508\n",
       "2016-01-01 20:00:00    0.579508\n",
       "2016-01-01 21:00:00    0.579508\n",
       "2016-01-01 22:00:00    0.579508\n",
       "2016-01-01 23:00:00    0.579508\n",
       "2016-01-02 00:00:00    0.579508\n",
       "2016-01-02 01:00:00    0.559003\n",
       "2016-01-02 02:00:00    0.559003\n",
       "2016-01-02 03:00:00    0.559003\n",
       "2016-01-02 04:00:00    0.559003\n",
       "2016-01-02 05:00:00    0.559003\n",
       "                         ...   \n",
       "2016-12-29 19:00:00    0.214728\n",
       "2016-12-29 20:00:00    0.214728\n",
       "2016-12-29 21:00:00    0.214728\n",
       "2016-12-29 22:00:00    0.214728\n",
       "2016-12-29 23:00:00    0.214728\n",
       "2016-12-30 00:00:00    0.214728\n",
       "2016-12-30 01:00:00    0.229595\n",
       "2016-12-30 02:00:00    0.229595\n",
       "2016-12-30 03:00:00    0.229595\n",
       "2016-12-30 04:00:00    0.229595\n",
       "2016-12-30 05:00:00    0.229595\n",
       "2016-12-30 06:00:00    0.229595\n",
       "2016-12-30 07:00:00    0.229595\n",
       "2016-12-30 08:00:00    0.229595\n",
       "2016-12-30 09:00:00    0.229595\n",
       "2016-12-30 10:00:00    0.229595\n",
       "2016-12-30 11:00:00    0.229595\n",
       "2016-12-30 12:00:00    0.229595\n",
       "2016-12-30 13:00:00    0.229595\n",
       "2016-12-30 14:00:00    0.229595\n",
       "2016-12-30 15:00:00    0.229595\n",
       "2016-12-30 16:00:00    0.229595\n",
       "2016-12-30 17:00:00    0.229595\n",
       "2016-12-30 18:00:00    0.229595\n",
       "2016-12-30 19:00:00    0.229595\n",
       "2016-12-30 20:00:00    0.229595\n",
       "2016-12-30 21:00:00    0.229595\n",
       "2016-12-30 22:00:00    0.229595\n",
       "2016-12-30 23:00:00    0.229595\n",
       "2016-12-31 00:00:00    0.229595\n",
       "Freq: H, dtype: float64"
      ]
     },
     "execution_count": 17,
     "metadata": {},
     "output_type": "execute_result"
    }
   ],
   "source": [
    "s1.resample('H').bfill()"
   ]
  },
  {
   "cell_type": "code",
   "execution_count": 18,
   "metadata": {
    "collapsed": true
   },
   "outputs": [],
   "source": [
    "# 画图\n",
    "t_range = pd.date_range('2016-01-01', '2016-12-31', freq='H')"
   ]
  },
  {
   "cell_type": "code",
   "execution_count": 19,
   "metadata": {
    "collapsed": false
   },
   "outputs": [
    {
     "data": {
      "text/plain": [
       "DatetimeIndex(['2016-01-01 00:00:00', '2016-01-01 01:00:00',\n",
       "               '2016-01-01 02:00:00', '2016-01-01 03:00:00',\n",
       "               '2016-01-01 04:00:00', '2016-01-01 05:00:00',\n",
       "               '2016-01-01 06:00:00', '2016-01-01 07:00:00',\n",
       "               '2016-01-01 08:00:00', '2016-01-01 09:00:00',\n",
       "               ...\n",
       "               '2016-12-30 15:00:00', '2016-12-30 16:00:00',\n",
       "               '2016-12-30 17:00:00', '2016-12-30 18:00:00',\n",
       "               '2016-12-30 19:00:00', '2016-12-30 20:00:00',\n",
       "               '2016-12-30 21:00:00', '2016-12-30 22:00:00',\n",
       "               '2016-12-30 23:00:00', '2016-12-31 00:00:00'],\n",
       "              dtype='datetime64[ns]', length=8761, freq='H')"
      ]
     },
     "execution_count": 19,
     "metadata": {},
     "output_type": "execute_result"
    }
   ],
   "source": [
    "t_range"
   ]
  },
  {
   "cell_type": "code",
   "execution_count": 21,
   "metadata": {
    "collapsed": false
   },
   "outputs": [],
   "source": [
    "stock_df = DataFrame(index=t_range)"
   ]
  },
  {
   "cell_type": "code",
   "execution_count": 24,
   "metadata": {
    "collapsed": false
   },
   "outputs": [],
   "source": [
    "stock_df['BABA'] = np.random.randint(80, 160, size=len(t_range))"
   ]
  },
  {
   "cell_type": "code",
   "execution_count": 26,
   "metadata": {
    "collapsed": false
   },
   "outputs": [
    {
     "data": {
      "text/html": [
       "<div>\n",
       "<table border=\"1\" class=\"dataframe\">\n",
       "  <thead>\n",
       "    <tr style=\"text-align: right;\">\n",
       "      <th></th>\n",
       "      <th>BABA</th>\n",
       "    </tr>\n",
       "  </thead>\n",
       "  <tbody>\n",
       "    <tr>\n",
       "      <th>2016-01-01 00:00:00</th>\n",
       "      <td>102</td>\n",
       "    </tr>\n",
       "    <tr>\n",
       "      <th>2016-01-01 01:00:00</th>\n",
       "      <td>111</td>\n",
       "    </tr>\n",
       "    <tr>\n",
       "      <th>2016-01-01 02:00:00</th>\n",
       "      <td>100</td>\n",
       "    </tr>\n",
       "    <tr>\n",
       "      <th>2016-01-01 03:00:00</th>\n",
       "      <td>106</td>\n",
       "    </tr>\n",
       "    <tr>\n",
       "      <th>2016-01-01 04:00:00</th>\n",
       "      <td>92</td>\n",
       "    </tr>\n",
       "  </tbody>\n",
       "</table>\n",
       "</div>"
      ],
      "text/plain": [
       "                     BABA\n",
       "2016-01-01 00:00:00   102\n",
       "2016-01-01 01:00:00   111\n",
       "2016-01-01 02:00:00   100\n",
       "2016-01-01 03:00:00   106\n",
       "2016-01-01 04:00:00    92"
      ]
     },
     "execution_count": 26,
     "metadata": {},
     "output_type": "execute_result"
    }
   ],
   "source": [
    "stock_df.head()"
   ]
  },
  {
   "cell_type": "code",
   "execution_count": 27,
   "metadata": {
    "collapsed": false
   },
   "outputs": [],
   "source": [
    "stock_df['Tencent'] = np.random.randint(30, 50, size=len(t_range))"
   ]
  },
  {
   "cell_type": "code",
   "execution_count": 29,
   "metadata": {
    "collapsed": false
   },
   "outputs": [
    {
     "data": {
      "text/html": [
       "<div>\n",
       "<table border=\"1\" class=\"dataframe\">\n",
       "  <thead>\n",
       "    <tr style=\"text-align: right;\">\n",
       "      <th></th>\n",
       "      <th>BABA</th>\n",
       "      <th>Tencent</th>\n",
       "    </tr>\n",
       "  </thead>\n",
       "  <tbody>\n",
       "    <tr>\n",
       "      <th>2016-01-01 00:00:00</th>\n",
       "      <td>102</td>\n",
       "      <td>47</td>\n",
       "    </tr>\n",
       "    <tr>\n",
       "      <th>2016-01-01 01:00:00</th>\n",
       "      <td>111</td>\n",
       "      <td>31</td>\n",
       "    </tr>\n",
       "    <tr>\n",
       "      <th>2016-01-01 02:00:00</th>\n",
       "      <td>100</td>\n",
       "      <td>41</td>\n",
       "    </tr>\n",
       "    <tr>\n",
       "      <th>2016-01-01 03:00:00</th>\n",
       "      <td>106</td>\n",
       "      <td>49</td>\n",
       "    </tr>\n",
       "    <tr>\n",
       "      <th>2016-01-01 04:00:00</th>\n",
       "      <td>92</td>\n",
       "      <td>36</td>\n",
       "    </tr>\n",
       "  </tbody>\n",
       "</table>\n",
       "</div>"
      ],
      "text/plain": [
       "                     BABA  Tencent\n",
       "2016-01-01 00:00:00   102       47\n",
       "2016-01-01 01:00:00   111       31\n",
       "2016-01-01 02:00:00   100       41\n",
       "2016-01-01 03:00:00   106       49\n",
       "2016-01-01 04:00:00    92       36"
      ]
     },
     "execution_count": 29,
     "metadata": {},
     "output_type": "execute_result"
    }
   ],
   "source": [
    "stock_df.head()"
   ]
  },
  {
   "cell_type": "code",
   "execution_count": 30,
   "metadata": {
    "collapsed": false
   },
   "outputs": [
    {
     "data": {
      "text/plain": [
       "<matplotlib.axes._subplots.AxesSubplot at 0x6cc0160>"
      ]
     },
     "execution_count": 30,
     "metadata": {},
     "output_type": "execute_result"
    }
   ],
   "source": [
    "stock_df.plot()"
   ]
  },
  {
   "cell_type": "code",
   "execution_count": 31,
   "metadata": {
    "collapsed": true
   },
   "outputs": [],
   "source": [
    "import matplotlib.pyplot as plt"
   ]
  },
  {
   "cell_type": "code",
   "execution_count": 32,
   "metadata": {
    "collapsed": false
   },
   "outputs": [
    {
     "data": {
      "image/png": "[encoded data removed]",
      "text/plain": [
       "<matplotlib.figure.Figure at 0x4c11518>"
      ]
     },
     "metadata": {},
     "output_type": "display_data"
    }
   ],
   "source": [
    "plt.show()"
   ]
  },
  {
   "cell_type": "code",
   "execution_count": 33,
   "metadata": {
    "collapsed": true
   },
   "outputs": [],
   "source": [
    "weekly_df = DataFrame()"
   ]
  },
  {
   "cell_type": "code",
   "execution_count": 34,
   "metadata": {
    "collapsed": true
   },
   "outputs": [],
   "source": [
    "weekly_df['BABA'] = stock_df['BABA'].resample('W').mean()"
   ]
  },
  {
   "cell_type": "code",
   "execution_count": 35,
   "metadata": {
    "collapsed": true
   },
   "outputs": [],
   "source": [
    "weekly_df['Tencent'] = stock_df['Tencent'].resample('W').mean()"
   ]
  },
  {
   "cell_type": "code",
   "execution_count": 37,
   "metadata": {
    "collapsed": false
   },
   "outputs": [
    {
     "data": {
      "text/html": [
       "<div>\n",
       "<table border=\"1\" class=\"dataframe\">\n",
       "  <thead>\n",
       "    <tr style=\"text-align: right;\">\n",
       "      <th></th>\n",
       "      <th>BABA</th>\n",
       "      <th>Tencent</th>\n",
       "    </tr>\n",
       "  </thead>\n",
       "  <tbody>\n",
       "    <tr>\n",
       "      <th>2016-01-03</th>\n",
       "      <td>116.583333</td>\n",
       "      <td>39.916667</td>\n",
       "    </tr>\n",
       "    <tr>\n",
       "      <th>2016-01-10</th>\n",
       "      <td>118.577381</td>\n",
       "      <td>39.470238</td>\n",
       "    </tr>\n",
       "    <tr>\n",
       "      <th>2016-01-17</th>\n",
       "      <td>118.267857</td>\n",
       "      <td>38.851190</td>\n",
       "    </tr>\n",
       "    <tr>\n",
       "      <th>2016-01-24</th>\n",
       "      <td>119.976190</td>\n",
       "      <td>39.857143</td>\n",
       "    </tr>\n",
       "    <tr>\n",
       "      <th>2016-01-31</th>\n",
       "      <td>117.035714</td>\n",
       "      <td>40.309524</td>\n",
       "    </tr>\n",
       "  </tbody>\n",
       "</table>\n",
       "</div>"
      ],
      "text/plain": [
       "                  BABA    Tencent\n",
       "2016-01-03  116.583333  39.916667\n",
       "2016-01-10  118.577381  39.470238\n",
       "2016-01-17  118.267857  38.851190\n",
       "2016-01-24  119.976190  39.857143\n",
       "2016-01-31  117.035714  40.309524"
      ]
     },
     "execution_count": 37,
     "metadata": {},
     "output_type": "execute_result"
    }
   ],
   "source": [
    "weekly_df.head()"
   ]
  },
  {
   "cell_type": "code",
   "execution_count": 38,
   "metadata": {
    "collapsed": false
   },
   "outputs": [
    {
     "data": {
      "text/plain": [
       "<matplotlib.axes._subplots.AxesSubplot at 0xa7bda58>"
      ]
     },
     "execution_count": 38,
     "metadata": {},
     "output_type": "execute_result"
    }
   ],
   "source": [
    "weekly_df.plot()"
   ]
  },
  {
   "cell_type": "code",
   "execution_count": 39,
   "metadata": {
    "collapsed": false
   },
   "outputs": [
    {
     "data": {
      "image/png": "[encoded data removed]",
      "text/plain": [
       "<matplotlib.figure.Figure at 0xa617668>"
      ]
     },
     "metadata": {},
     "output_type": "display_data"
    }
   ],
   "source": [
    "plt.show()"
   ]
  },
  {
   "cell_type": "code",
   "execution_count": null,
   "metadata": {
    "collapsed": true
   },
   "outputs": [],
   "source": []
  }
 ],
 "metadata": {
  "anaconda-cloud": {},
  "kernelspec": {
   "display_name": "Python [default]",
   "language": "python",
   "name": "python3"
  },
  "language_info": {
   "codemirror_mode": {
    "name": "ipython",
    "version": 3
   },
   "file_extension": ".py",
   "mimetype": "text/x-python",
   "name": "python",
   "nbconvert_exporter": "python",
   "pygments_lexer": "ipython3",
   "version": "3.5.2"
  }
 },
 "nbformat": 4,
 "nbformat_minor": 1
}
