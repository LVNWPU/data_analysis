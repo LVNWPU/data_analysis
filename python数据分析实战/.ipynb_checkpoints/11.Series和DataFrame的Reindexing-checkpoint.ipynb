{
 "cells": [
  {
   "cell_type": "code",
   "execution_count": 1,
   "metadata": {
    "collapsed": true
   },
   "outputs": [],
   "source": [
    "import numpy as np\n",
    "import pandas as pd\n",
    "from pandas import Series, DataFrame"
   ]
  },
  {
   "cell_type": "markdown",
   "metadata": {},
   "source": [
    "### Series ReIndex"
   ]
  },
  {
   "cell_type": "code",
   "execution_count": 3,
   "metadata": {
    "collapsed": true
   },
   "outputs": [],
   "source": [
    "s1 = pd.Series([1, 2, 3, 4], index=['A', 'B', 'C', 'D'])"
   ]
  },
  {
   "cell_type": "code",
   "execution_count": 4,
   "metadata": {
    "collapsed": false
   },
   "outputs": [
    {
     "data": {
      "text/plain": [
       "A    1\n",
       "B    2\n",
       "C    3\n",
       "D    4\n",
       "dtype: int64"
      ]
     },
     "execution_count": 4,
     "metadata": {},
     "output_type": "execute_result"
    }
   ],
   "source": [
    "s1"
   ]
  },
  {
   "cell_type": "code",
   "execution_count": 5,
   "metadata": {
    "collapsed": false
   },
   "outputs": [
    {
     "data": {
      "text/plain": [
       "A    1.0\n",
       "B    2.0\n",
       "C    3.0\n",
       "D    4.0\n",
       "E    NaN\n",
       "dtype: float64"
      ]
     },
     "execution_count": 5,
     "metadata": {},
     "output_type": "execute_result"
    }
   ],
   "source": [
    "s1.reindex(index=['A', 'B', 'C', 'D', 'E'])  #按住shift+tab显示帮助信息"
   ]
  },
  {
   "cell_type": "code",
   "execution_count": 6,
   "metadata": {
    "collapsed": false
   },
   "outputs": [
    {
     "data": {
      "text/plain": [
       "A     1\n",
       "B     2\n",
       "C     3\n",
       "D     4\n",
       "E    10\n",
       "dtype: int64"
      ]
     },
     "execution_count": 6,
     "metadata": {},
     "output_type": "execute_result"
    }
   ],
   "source": [
    "s1.reindex(index=['A', 'B', 'C', 'D', 'E'], fill_value=10) "
   ]
  },
  {
   "cell_type": "code",
   "execution_count": 7,
   "metadata": {
    "collapsed": true
   },
   "outputs": [],
   "source": [
    "s2 = pd.Series(['A', 'B', 'C'], index=[1, 5, 10])"
   ]
  },
  {
   "cell_type": "code",
   "execution_count": 8,
   "metadata": {
    "collapsed": false
   },
   "outputs": [
    {
     "data": {
      "text/plain": [
       "1     A\n",
       "5     B\n",
       "10    C\n",
       "dtype: object"
      ]
     },
     "execution_count": 8,
     "metadata": {},
     "output_type": "execute_result"
    }
   ],
   "source": [
    "s2"
   ]
  },
  {
   "cell_type": "code",
   "execution_count": 9,
   "metadata": {
    "collapsed": false
   },
   "outputs": [
    {
     "data": {
      "text/plain": [
       "0     NaN\n",
       "1       A\n",
       "2     NaN\n",
       "3     NaN\n",
       "4     NaN\n",
       "5       B\n",
       "6     NaN\n",
       "7     NaN\n",
       "8     NaN\n",
       "9     NaN\n",
       "10      C\n",
       "11    NaN\n",
       "12    NaN\n",
       "13    NaN\n",
       "14    NaN\n",
       "dtype: object"
      ]
     },
     "execution_count": 9,
     "metadata": {},
     "output_type": "execute_result"
    }
   ],
   "source": [
    "s2.reindex(index=range(15))"
   ]
  },
  {
   "cell_type": "code",
   "execution_count": 10,
   "metadata": {
    "collapsed": false
   },
   "outputs": [
    {
     "data": {
      "text/plain": [
       "0     NaN\n",
       "1       A\n",
       "2       A\n",
       "3       A\n",
       "4       A\n",
       "5       B\n",
       "6       B\n",
       "7       B\n",
       "8       B\n",
       "9       B\n",
       "10      C\n",
       "11      C\n",
       "12      C\n",
       "13      C\n",
       "14      C\n",
       "dtype: object"
      ]
     },
     "execution_count": 10,
     "metadata": {},
     "output_type": "execute_result"
    }
   ],
   "source": [
    "s2.reindex(index=range(15), method='ffill')  "
   ]
  },
  {
   "cell_type": "markdown",
   "metadata": {},
   "source": [
    "### DataFrame reindex"
   ]
  },
  {
   "cell_type": "code",
   "execution_count": 16,
   "metadata": {
    "collapsed": false
   },
   "outputs": [],
   "source": [
    "df1 = pd.DataFrame(np.random.randn(25).reshape((5, 5)), index=['A', 'B', 'D', 'E', 'F'],columns=['c1', 'c2', 'c3', 'c4', 'c5'])"
   ]
  },
  {
   "cell_type": "code",
   "execution_count": 17,
   "metadata": {
    "collapsed": false
   },
   "outputs": [
    {
     "data": {
      "text/html": [
       "<div>\n",
       "<table border=\"1\" class=\"dataframe\">\n",
       "  <thead>\n",
       "    <tr style=\"text-align: right;\">\n",
       "      <th></th>\n",
       "      <th>c1</th>\n",
       "      <th>c2</th>\n",
       "      <th>c3</th>\n",
       "      <th>c4</th>\n",
       "      <th>c5</th>\n",
       "    </tr>\n",
       "  </thead>\n",
       "  <tbody>\n",
       "    <tr>\n",
       "      <th>A</th>\n",
       "      <td>-0.698949</td>\n",
       "      <td>0.397569</td>\n",
       "      <td>1.423628</td>\n",
       "      <td>0.478633</td>\n",
       "      <td>0.478625</td>\n",
       "    </tr>\n",
       "    <tr>\n",
       "      <th>B</th>\n",
       "      <td>-0.089159</td>\n",
       "      <td>2.558041</td>\n",
       "      <td>1.685004</td>\n",
       "      <td>-2.117550</td>\n",
       "      <td>0.647161</td>\n",
       "    </tr>\n",
       "    <tr>\n",
       "      <th>D</th>\n",
       "      <td>-0.881156</td>\n",
       "      <td>-0.261611</td>\n",
       "      <td>0.626985</td>\n",
       "      <td>0.703380</td>\n",
       "      <td>1.290215</td>\n",
       "    </tr>\n",
       "    <tr>\n",
       "      <th>E</th>\n",
       "      <td>-0.867356</td>\n",
       "      <td>-0.398193</td>\n",
       "      <td>-0.852633</td>\n",
       "      <td>-1.543525</td>\n",
       "      <td>1.603703</td>\n",
       "    </tr>\n",
       "    <tr>\n",
       "      <th>F</th>\n",
       "      <td>0.877454</td>\n",
       "      <td>-0.164526</td>\n",
       "      <td>-0.986214</td>\n",
       "      <td>-0.254427</td>\n",
       "      <td>-1.079039</td>\n",
       "    </tr>\n",
       "  </tbody>\n",
       "</table>\n",
       "</div>"
      ],
      "text/plain": [
       "         c1        c2        c3        c4        c5\n",
       "A -0.698949  0.397569  1.423628  0.478633  0.478625\n",
       "B -0.089159  2.558041  1.685004 -2.117550  0.647161\n",
       "D -0.881156 -0.261611  0.626985  0.703380  1.290215\n",
       "E -0.867356 -0.398193 -0.852633 -1.543525  1.603703\n",
       "F  0.877454 -0.164526 -0.986214 -0.254427 -1.079039"
      ]
     },
     "execution_count": 17,
     "metadata": {},
     "output_type": "execute_result"
    }
   ],
   "source": [
    "df1"
   ]
  },
  {
   "cell_type": "code",
   "execution_count": 18,
   "metadata": {
    "collapsed": false
   },
   "outputs": [
    {
     "data": {
      "text/html": [
       "<div>\n",
       "<table border=\"1\" class=\"dataframe\">\n",
       "  <thead>\n",
       "    <tr style=\"text-align: right;\">\n",
       "      <th></th>\n",
       "      <th>c1</th>\n",
       "      <th>c2</th>\n",
       "      <th>c3</th>\n",
       "      <th>c4</th>\n",
       "      <th>c5</th>\n",
       "    </tr>\n",
       "  </thead>\n",
       "  <tbody>\n",
       "    <tr>\n",
       "      <th>A</th>\n",
       "      <td>-0.698949</td>\n",
       "      <td>0.397569</td>\n",
       "      <td>1.423628</td>\n",
       "      <td>0.478633</td>\n",
       "      <td>0.478625</td>\n",
       "    </tr>\n",
       "    <tr>\n",
       "      <th>B</th>\n",
       "      <td>-0.089159</td>\n",
       "      <td>2.558041</td>\n",
       "      <td>1.685004</td>\n",
       "      <td>-2.117550</td>\n",
       "      <td>0.647161</td>\n",
       "    </tr>\n",
       "    <tr>\n",
       "      <th>C</th>\n",
       "      <td>NaN</td>\n",
       "      <td>NaN</td>\n",
       "      <td>NaN</td>\n",
       "      <td>NaN</td>\n",
       "      <td>NaN</td>\n",
       "    </tr>\n",
       "    <tr>\n",
       "      <th>D</th>\n",
       "      <td>-0.881156</td>\n",
       "      <td>-0.261611</td>\n",
       "      <td>0.626985</td>\n",
       "      <td>0.703380</td>\n",
       "      <td>1.290215</td>\n",
       "    </tr>\n",
       "    <tr>\n",
       "      <th>E</th>\n",
       "      <td>-0.867356</td>\n",
       "      <td>-0.398193</td>\n",
       "      <td>-0.852633</td>\n",
       "      <td>-1.543525</td>\n",
       "      <td>1.603703</td>\n",
       "    </tr>\n",
       "    <tr>\n",
       "      <th>F</th>\n",
       "      <td>0.877454</td>\n",
       "      <td>-0.164526</td>\n",
       "      <td>-0.986214</td>\n",
       "      <td>-0.254427</td>\n",
       "      <td>-1.079039</td>\n",
       "    </tr>\n",
       "  </tbody>\n",
       "</table>\n",
       "</div>"
      ],
      "text/plain": [
       "         c1        c2        c3        c4        c5\n",
       "A -0.698949  0.397569  1.423628  0.478633  0.478625\n",
       "B -0.089159  2.558041  1.685004 -2.117550  0.647161\n",
       "C       NaN       NaN       NaN       NaN       NaN\n",
       "D -0.881156 -0.261611  0.626985  0.703380  1.290215\n",
       "E -0.867356 -0.398193 -0.852633 -1.543525  1.603703\n",
       "F  0.877454 -0.164526 -0.986214 -0.254427 -1.079039"
      ]
     },
     "execution_count": 18,
     "metadata": {},
     "output_type": "execute_result"
    }
   ],
   "source": [
    "df1.reindex(index=['A', 'B', 'C', 'D', 'E', 'F'])"
   ]
  },
  {
   "cell_type": "code",
   "execution_count": 19,
   "metadata": {
    "collapsed": false
   },
   "outputs": [
    {
     "data": {
      "text/html": [
       "<div>\n",
       "<table border=\"1\" class=\"dataframe\">\n",
       "  <thead>\n",
       "    <tr style=\"text-align: right;\">\n",
       "      <th></th>\n",
       "      <th>c1</th>\n",
       "      <th>c2</th>\n",
       "      <th>c3</th>\n",
       "      <th>c4</th>\n",
       "      <th>c5</th>\n",
       "      <th>c6</th>\n",
       "    </tr>\n",
       "  </thead>\n",
       "  <tbody>\n",
       "    <tr>\n",
       "      <th>A</th>\n",
       "      <td>-0.698949</td>\n",
       "      <td>0.397569</td>\n",
       "      <td>1.423628</td>\n",
       "      <td>0.478633</td>\n",
       "      <td>0.478625</td>\n",
       "      <td>NaN</td>\n",
       "    </tr>\n",
       "    <tr>\n",
       "      <th>B</th>\n",
       "      <td>-0.089159</td>\n",
       "      <td>2.558041</td>\n",
       "      <td>1.685004</td>\n",
       "      <td>-2.117550</td>\n",
       "      <td>0.647161</td>\n",
       "      <td>NaN</td>\n",
       "    </tr>\n",
       "    <tr>\n",
       "      <th>D</th>\n",
       "      <td>-0.881156</td>\n",
       "      <td>-0.261611</td>\n",
       "      <td>0.626985</td>\n",
       "      <td>0.703380</td>\n",
       "      <td>1.290215</td>\n",
       "      <td>NaN</td>\n",
       "    </tr>\n",
       "    <tr>\n",
       "      <th>E</th>\n",
       "      <td>-0.867356</td>\n",
       "      <td>-0.398193</td>\n",
       "      <td>-0.852633</td>\n",
       "      <td>-1.543525</td>\n",
       "      <td>1.603703</td>\n",
       "      <td>NaN</td>\n",
       "    </tr>\n",
       "    <tr>\n",
       "      <th>F</th>\n",
       "      <td>0.877454</td>\n",
       "      <td>-0.164526</td>\n",
       "      <td>-0.986214</td>\n",
       "      <td>-0.254427</td>\n",
       "      <td>-1.079039</td>\n",
       "      <td>NaN</td>\n",
       "    </tr>\n",
       "  </tbody>\n",
       "</table>\n",
       "</div>"
      ],
      "text/plain": [
       "         c1        c2        c3        c4        c5  c6\n",
       "A -0.698949  0.397569  1.423628  0.478633  0.478625 NaN\n",
       "B -0.089159  2.558041  1.685004 -2.117550  0.647161 NaN\n",
       "D -0.881156 -0.261611  0.626985  0.703380  1.290215 NaN\n",
       "E -0.867356 -0.398193 -0.852633 -1.543525  1.603703 NaN\n",
       "F  0.877454 -0.164526 -0.986214 -0.254427 -1.079039 NaN"
      ]
     },
     "execution_count": 19,
     "metadata": {},
     "output_type": "execute_result"
    }
   ],
   "source": [
    "df1.reindex(columns=['c1', 'c2', 'c3', 'c4', 'c5', 'c6'])"
   ]
  },
  {
   "cell_type": "code",
   "execution_count": 20,
   "metadata": {
    "collapsed": false
   },
   "outputs": [
    {
     "data": {
      "text/html": [
       "<div>\n",
       "<table border=\"1\" class=\"dataframe\">\n",
       "  <thead>\n",
       "    <tr style=\"text-align: right;\">\n",
       "      <th></th>\n",
       "      <th>c1</th>\n",
       "      <th>c2</th>\n",
       "      <th>c3</th>\n",
       "      <th>c4</th>\n",
       "      <th>c5</th>\n",
       "      <th>c6</th>\n",
       "    </tr>\n",
       "  </thead>\n",
       "  <tbody>\n",
       "    <tr>\n",
       "      <th>A</th>\n",
       "      <td>-0.698949</td>\n",
       "      <td>0.397569</td>\n",
       "      <td>1.423628</td>\n",
       "      <td>0.478633</td>\n",
       "      <td>0.478625</td>\n",
       "      <td>NaN</td>\n",
       "    </tr>\n",
       "    <tr>\n",
       "      <th>B</th>\n",
       "      <td>-0.089159</td>\n",
       "      <td>2.558041</td>\n",
       "      <td>1.685004</td>\n",
       "      <td>-2.117550</td>\n",
       "      <td>0.647161</td>\n",
       "      <td>NaN</td>\n",
       "    </tr>\n",
       "    <tr>\n",
       "      <th>C</th>\n",
       "      <td>NaN</td>\n",
       "      <td>NaN</td>\n",
       "      <td>NaN</td>\n",
       "      <td>NaN</td>\n",
       "      <td>NaN</td>\n",
       "      <td>NaN</td>\n",
       "    </tr>\n",
       "    <tr>\n",
       "      <th>D</th>\n",
       "      <td>-0.881156</td>\n",
       "      <td>-0.261611</td>\n",
       "      <td>0.626985</td>\n",
       "      <td>0.703380</td>\n",
       "      <td>1.290215</td>\n",
       "      <td>NaN</td>\n",
       "    </tr>\n",
       "    <tr>\n",
       "      <th>E</th>\n",
       "      <td>-0.867356</td>\n",
       "      <td>-0.398193</td>\n",
       "      <td>-0.852633</td>\n",
       "      <td>-1.543525</td>\n",
       "      <td>1.603703</td>\n",
       "      <td>NaN</td>\n",
       "    </tr>\n",
       "    <tr>\n",
       "      <th>F</th>\n",
       "      <td>0.877454</td>\n",
       "      <td>-0.164526</td>\n",
       "      <td>-0.986214</td>\n",
       "      <td>-0.254427</td>\n",
       "      <td>-1.079039</td>\n",
       "      <td>NaN</td>\n",
       "    </tr>\n",
       "  </tbody>\n",
       "</table>\n",
       "</div>"
      ],
      "text/plain": [
       "         c1        c2        c3        c4        c5  c6\n",
       "A -0.698949  0.397569  1.423628  0.478633  0.478625 NaN\n",
       "B -0.089159  2.558041  1.685004 -2.117550  0.647161 NaN\n",
       "C       NaN       NaN       NaN       NaN       NaN NaN\n",
       "D -0.881156 -0.261611  0.626985  0.703380  1.290215 NaN\n",
       "E -0.867356 -0.398193 -0.852633 -1.543525  1.603703 NaN\n",
       "F  0.877454 -0.164526 -0.986214 -0.254427 -1.079039 NaN"
      ]
     },
     "execution_count": 20,
     "metadata": {},
     "output_type": "execute_result"
    }
   ],
   "source": [
    "df1.reindex(index=['A', 'B', 'C', 'D', 'E', 'F'],columns=['c1', 'c2', 'c3', 'c4', 'c5', 'c6'])"
   ]
  },
  {
   "cell_type": "code",
   "execution_count": 21,
   "metadata": {
    "collapsed": false
   },
   "outputs": [
    {
     "data": {
      "text/plain": [
       "A    1\n",
       "B    2\n",
       "C    3\n",
       "D    4\n",
       "dtype: int64"
      ]
     },
     "execution_count": 21,
     "metadata": {},
     "output_type": "execute_result"
    }
   ],
   "source": [
    "s1"
   ]
  },
  {
   "cell_type": "code",
   "execution_count": 22,
   "metadata": {
    "collapsed": false
   },
   "outputs": [
    {
     "data": {
      "text/plain": [
       "A    1\n",
       "B    2\n",
       "dtype: int64"
      ]
     },
     "execution_count": 22,
     "metadata": {},
     "output_type": "execute_result"
    }
   ],
   "source": [
    "s1.reindex(index=['A', 'B'])"
   ]
  },
  {
   "cell_type": "code",
   "execution_count": 23,
   "metadata": {
    "collapsed": false
   },
   "outputs": [
    {
     "data": {
      "text/html": [
       "<div>\n",
       "<table border=\"1\" class=\"dataframe\">\n",
       "  <thead>\n",
       "    <tr style=\"text-align: right;\">\n",
       "      <th></th>\n",
       "      <th>c1</th>\n",
       "      <th>c2</th>\n",
       "      <th>c3</th>\n",
       "      <th>c4</th>\n",
       "      <th>c5</th>\n",
       "    </tr>\n",
       "  </thead>\n",
       "  <tbody>\n",
       "    <tr>\n",
       "      <th>A</th>\n",
       "      <td>-0.698949</td>\n",
       "      <td>0.397569</td>\n",
       "      <td>1.423628</td>\n",
       "      <td>0.478633</td>\n",
       "      <td>0.478625</td>\n",
       "    </tr>\n",
       "    <tr>\n",
       "      <th>B</th>\n",
       "      <td>-0.089159</td>\n",
       "      <td>2.558041</td>\n",
       "      <td>1.685004</td>\n",
       "      <td>-2.117550</td>\n",
       "      <td>0.647161</td>\n",
       "    </tr>\n",
       "    <tr>\n",
       "      <th>D</th>\n",
       "      <td>-0.881156</td>\n",
       "      <td>-0.261611</td>\n",
       "      <td>0.626985</td>\n",
       "      <td>0.703380</td>\n",
       "      <td>1.290215</td>\n",
       "    </tr>\n",
       "    <tr>\n",
       "      <th>E</th>\n",
       "      <td>-0.867356</td>\n",
       "      <td>-0.398193</td>\n",
       "      <td>-0.852633</td>\n",
       "      <td>-1.543525</td>\n",
       "      <td>1.603703</td>\n",
       "    </tr>\n",
       "    <tr>\n",
       "      <th>F</th>\n",
       "      <td>0.877454</td>\n",
       "      <td>-0.164526</td>\n",
       "      <td>-0.986214</td>\n",
       "      <td>-0.254427</td>\n",
       "      <td>-1.079039</td>\n",
       "    </tr>\n",
       "  </tbody>\n",
       "</table>\n",
       "</div>"
      ],
      "text/plain": [
       "         c1        c2        c3        c4        c5\n",
       "A -0.698949  0.397569  1.423628  0.478633  0.478625\n",
       "B -0.089159  2.558041  1.685004 -2.117550  0.647161\n",
       "D -0.881156 -0.261611  0.626985  0.703380  1.290215\n",
       "E -0.867356 -0.398193 -0.852633 -1.543525  1.603703\n",
       "F  0.877454 -0.164526 -0.986214 -0.254427 -1.079039"
      ]
     },
     "execution_count": 23,
     "metadata": {},
     "output_type": "execute_result"
    }
   ],
   "source": [
    "df1"
   ]
  },
  {
   "cell_type": "code",
   "execution_count": 24,
   "metadata": {
    "collapsed": false
   },
   "outputs": [
    {
     "data": {
      "text/html": [
       "<div>\n",
       "<table border=\"1\" class=\"dataframe\">\n",
       "  <thead>\n",
       "    <tr style=\"text-align: right;\">\n",
       "      <th></th>\n",
       "      <th>c1</th>\n",
       "      <th>c2</th>\n",
       "      <th>c3</th>\n",
       "      <th>c4</th>\n",
       "      <th>c5</th>\n",
       "    </tr>\n",
       "  </thead>\n",
       "  <tbody>\n",
       "    <tr>\n",
       "      <th>A</th>\n",
       "      <td>-0.698949</td>\n",
       "      <td>0.397569</td>\n",
       "      <td>1.423628</td>\n",
       "      <td>0.478633</td>\n",
       "      <td>0.478625</td>\n",
       "    </tr>\n",
       "    <tr>\n",
       "      <th>B</th>\n",
       "      <td>-0.089159</td>\n",
       "      <td>2.558041</td>\n",
       "      <td>1.685004</td>\n",
       "      <td>-2.117550</td>\n",
       "      <td>0.647161</td>\n",
       "    </tr>\n",
       "  </tbody>\n",
       "</table>\n",
       "</div>"
      ],
      "text/plain": [
       "         c1        c2        c3        c4        c5\n",
       "A -0.698949  0.397569  1.423628  0.478633  0.478625\n",
       "B -0.089159  2.558041  1.685004 -2.117550  0.647161"
      ]
     },
     "execution_count": 24,
     "metadata": {},
     "output_type": "execute_result"
    }
   ],
   "source": [
    "df1.reindex(index=['A', 'B'])"
   ]
  },
  {
   "cell_type": "code",
   "execution_count": 25,
   "metadata": {
    "collapsed": false
   },
   "outputs": [
    {
     "data": {
      "text/plain": [
       "B    2\n",
       "C    3\n",
       "D    4\n",
       "dtype: int64"
      ]
     },
     "execution_count": 25,
     "metadata": {},
     "output_type": "execute_result"
    }
   ],
   "source": [
    "s1.drop('A')"
   ]
  },
  {
   "cell_type": "code",
   "execution_count": 26,
   "metadata": {
    "collapsed": false
   },
   "outputs": [
    {
     "data": {
      "text/html": [
       "<div>\n",
       "<table border=\"1\" class=\"dataframe\">\n",
       "  <thead>\n",
       "    <tr style=\"text-align: right;\">\n",
       "      <th></th>\n",
       "      <th>c1</th>\n",
       "      <th>c2</th>\n",
       "      <th>c3</th>\n",
       "      <th>c4</th>\n",
       "      <th>c5</th>\n",
       "    </tr>\n",
       "  </thead>\n",
       "  <tbody>\n",
       "    <tr>\n",
       "      <th>B</th>\n",
       "      <td>-0.089159</td>\n",
       "      <td>2.558041</td>\n",
       "      <td>1.685004</td>\n",
       "      <td>-2.117550</td>\n",
       "      <td>0.647161</td>\n",
       "    </tr>\n",
       "    <tr>\n",
       "      <th>D</th>\n",
       "      <td>-0.881156</td>\n",
       "      <td>-0.261611</td>\n",
       "      <td>0.626985</td>\n",
       "      <td>0.703380</td>\n",
       "      <td>1.290215</td>\n",
       "    </tr>\n",
       "    <tr>\n",
       "      <th>E</th>\n",
       "      <td>-0.867356</td>\n",
       "      <td>-0.398193</td>\n",
       "      <td>-0.852633</td>\n",
       "      <td>-1.543525</td>\n",
       "      <td>1.603703</td>\n",
       "    </tr>\n",
       "    <tr>\n",
       "      <th>F</th>\n",
       "      <td>0.877454</td>\n",
       "      <td>-0.164526</td>\n",
       "      <td>-0.986214</td>\n",
       "      <td>-0.254427</td>\n",
       "      <td>-1.079039</td>\n",
       "    </tr>\n",
       "  </tbody>\n",
       "</table>\n",
       "</div>"
      ],
      "text/plain": [
       "         c1        c2        c3        c4        c5\n",
       "B -0.089159  2.558041  1.685004 -2.117550  0.647161\n",
       "D -0.881156 -0.261611  0.626985  0.703380  1.290215\n",
       "E -0.867356 -0.398193 -0.852633 -1.543525  1.603703\n",
       "F  0.877454 -0.164526 -0.986214 -0.254427 -1.079039"
      ]
     },
     "execution_count": 26,
     "metadata": {},
     "output_type": "execute_result"
    }
   ],
   "source": [
    "df1.drop('A', axis=0)"
   ]
  },
  {
   "cell_type": "code",
   "execution_count": 27,
   "metadata": {
    "collapsed": false
   },
   "outputs": [
    {
     "data": {
      "text/html": [
       "<div>\n",
       "<table border=\"1\" class=\"dataframe\">\n",
       "  <thead>\n",
       "    <tr style=\"text-align: right;\">\n",
       "      <th></th>\n",
       "      <th>c2</th>\n",
       "      <th>c3</th>\n",
       "      <th>c4</th>\n",
       "      <th>c5</th>\n",
       "    </tr>\n",
       "  </thead>\n",
       "  <tbody>\n",
       "    <tr>\n",
       "      <th>A</th>\n",
       "      <td>0.397569</td>\n",
       "      <td>1.423628</td>\n",
       "      <td>0.478633</td>\n",
       "      <td>0.478625</td>\n",
       "    </tr>\n",
       "    <tr>\n",
       "      <th>B</th>\n",
       "      <td>2.558041</td>\n",
       "      <td>1.685004</td>\n",
       "      <td>-2.117550</td>\n",
       "      <td>0.647161</td>\n",
       "    </tr>\n",
       "    <tr>\n",
       "      <th>D</th>\n",
       "      <td>-0.261611</td>\n",
       "      <td>0.626985</td>\n",
       "      <td>0.703380</td>\n",
       "      <td>1.290215</td>\n",
       "    </tr>\n",
       "    <tr>\n",
       "      <th>E</th>\n",
       "      <td>-0.398193</td>\n",
       "      <td>-0.852633</td>\n",
       "      <td>-1.543525</td>\n",
       "      <td>1.603703</td>\n",
       "    </tr>\n",
       "    <tr>\n",
       "      <th>F</th>\n",
       "      <td>-0.164526</td>\n",
       "      <td>-0.986214</td>\n",
       "      <td>-0.254427</td>\n",
       "      <td>-1.079039</td>\n",
       "    </tr>\n",
       "  </tbody>\n",
       "</table>\n",
       "</div>"
      ],
      "text/plain": [
       "         c2        c3        c4        c5\n",
       "A  0.397569  1.423628  0.478633  0.478625\n",
       "B  2.558041  1.685004 -2.117550  0.647161\n",
       "D -0.261611  0.626985  0.703380  1.290215\n",
       "E -0.398193 -0.852633 -1.543525  1.603703\n",
       "F -0.164526 -0.986214 -0.254427 -1.079039"
      ]
     },
     "execution_count": 27,
     "metadata": {},
     "output_type": "execute_result"
    }
   ],
   "source": [
    "df1.drop('c1', axis=1)"
   ]
  },
  {
   "cell_type": "code",
   "execution_count": null,
   "metadata": {
    "collapsed": true
   },
   "outputs": [],
   "source": []
  }
 ],
 "metadata": {
  "anaconda-cloud": {},
  "kernelspec": {
   "display_name": "Python [conda env:Anaconda3]",
   "language": "python",
   "name": "conda-env-Anaconda3-py"
  },
  "language_info": {
   "codemirror_mode": {
    "name": "ipython",
    "version": 3
   },
   "file_extension": ".py",
   "mimetype": "text/x-python",
   "name": "python",
   "nbconvert_exporter": "python",
   "pygments_lexer": "ipython3",
   "version": "3.5.2"
  }
 },
 "nbformat": 4,
 "nbformat_minor": 1
}
