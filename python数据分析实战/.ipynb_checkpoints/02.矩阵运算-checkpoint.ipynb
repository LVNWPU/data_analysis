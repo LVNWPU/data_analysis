{
 "cells": [
  {
   "cell_type": "code",
   "execution_count": null,
   "metadata": {
    "collapsed": true
   },
   "outputs": [],
   "source": [
    "# 矩阵：矩形的数组，即二维数组。其中向量和标量都是矩阵的特例\n",
    "# 向量: 1*n或者n*1的矩阵\n",
    "# 标量：1*1的矩阵\n",
    "# 数组: N维的数组，是矩阵的延伸"
   ]
  },
  {
   "cell_type": "code",
   "execution_count": null,
   "metadata": {
    "collapsed": true
   },
   "outputs": [],
   "source": [
    "# 特殊矩阵\n",
    "# 全0或全1矩阵\n",
    "# 单位矩阵\n",
    "# 矩阵加减运算-----行和列对应元素相加减\n",
    "\"\"\"相加、减的两个矩阵必须有相同的行和列\"\"\"\n",
    "# 数组的乘法（点乘）\n",
    "\"\"\"对应元素之间的乘法\"\"\"\n",
    "# 矩阵的乘法\n",
    "\"\"\"第一个矩阵的列数等于第二个矩阵的行数\"\"\"\n"
   ]
  }
 ],
 "metadata": {
  "kernelspec": {
   "display_name": "Python [conda env:Anaconda3]",
   "language": "python",
   "name": "conda-env-Anaconda3-py"
  },
  "language_info": {
   "codemirror_mode": {
    "name": "ipython",
    "version": 3
   },
   "file_extension": ".py",
   "mimetype": "text/x-python",
   "name": "python",
   "nbconvert_exporter": "python",
   "pygments_lexer": "ipython3",
   "version": "3.5.2"
  }
 },
 "nbformat": 4,
 "nbformat_minor": 1
}
