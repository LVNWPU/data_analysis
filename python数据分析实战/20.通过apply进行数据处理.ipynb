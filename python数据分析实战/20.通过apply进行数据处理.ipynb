{
 "cells": [
  {
   "cell_type": "code",
   "execution_count": 2,
   "metadata": {
    "collapsed": true
   },
   "outputs": [],
   "source": [
    "import numpy as np\n",
    "import pandas as pd\n",
    "from pandas import Series, DataFrame"
   ]
  },
  {
   "cell_type": "code",
   "execution_count": 3,
   "metadata": {
    "collapsed": true
   },
   "outputs": [],
   "source": [
    "df = pd.read_csv('apply_demo.csv')"
   ]
  },
  {
   "cell_type": "code",
   "execution_count": 4,
   "metadata": {
    "collapsed": false
   },
   "outputs": [
    {
     "data": {
      "text/html": [
       "<div>\n",
       "<table border=\"1\" class=\"dataframe\">\n",
       "  <thead>\n",
       "    <tr style=\"text-align: right;\">\n",
       "      <th></th>\n",
       "      <th>time</th>\n",
       "      <th>data</th>\n",
       "    </tr>\n",
       "  </thead>\n",
       "  <tbody>\n",
       "    <tr>\n",
       "      <th>0</th>\n",
       "      <td>1473411962</td>\n",
       "      <td>Symbol: APPL Seqno: 0 Price: 1623</td>\n",
       "    </tr>\n",
       "    <tr>\n",
       "      <th>1</th>\n",
       "      <td>1473411962</td>\n",
       "      <td>Symbol: APPL Seqno: 0 Price: 1623</td>\n",
       "    </tr>\n",
       "    <tr>\n",
       "      <th>2</th>\n",
       "      <td>1473411963</td>\n",
       "      <td>Symbol: APPL Seqno: 0 Price: 1623</td>\n",
       "    </tr>\n",
       "    <tr>\n",
       "      <th>3</th>\n",
       "      <td>1473411963</td>\n",
       "      <td>Symbol: APPL Seqno: 0 Price: 1623</td>\n",
       "    </tr>\n",
       "    <tr>\n",
       "      <th>4</th>\n",
       "      <td>1473411963</td>\n",
       "      <td>Symbol: APPL Seqno: 1 Price: 1649</td>\n",
       "    </tr>\n",
       "  </tbody>\n",
       "</table>\n",
       "</div>"
      ],
      "text/plain": [
       "         time                                data\n",
       "0  1473411962   Symbol: APPL Seqno: 0 Price: 1623\n",
       "1  1473411962   Symbol: APPL Seqno: 0 Price: 1623\n",
       "2  1473411963   Symbol: APPL Seqno: 0 Price: 1623\n",
       "3  1473411963   Symbol: APPL Seqno: 0 Price: 1623\n",
       "4  1473411963   Symbol: APPL Seqno: 1 Price: 1649"
      ]
     },
     "execution_count": 4,
     "metadata": {},
     "output_type": "execute_result"
    }
   ],
   "source": [
    "df.head()"
   ]
  },
  {
   "cell_type": "code",
   "execution_count": 5,
   "metadata": {
    "collapsed": false
   },
   "outputs": [
    {
     "data": {
      "text/plain": [
       "7978"
      ]
     },
     "execution_count": 5,
     "metadata": {},
     "output_type": "execute_result"
    }
   ],
   "source": [
    "df.size"
   ]
  },
  {
   "cell_type": "code",
   "execution_count": 6,
   "metadata": {
    "collapsed": true
   },
   "outputs": [],
   "source": [
    "s1 = Series(['a'] * 7978)"
   ]
  },
  {
   "cell_type": "code",
   "execution_count": 7,
   "metadata": {
    "collapsed": true
   },
   "outputs": [],
   "source": [
    "df['A'] = s1"
   ]
  },
  {
   "cell_type": "code",
   "execution_count": 8,
   "metadata": {
    "collapsed": false
   },
   "outputs": [
    {
     "data": {
      "text/html": [
       "<div>\n",
       "<table border=\"1\" class=\"dataframe\">\n",
       "  <thead>\n",
       "    <tr style=\"text-align: right;\">\n",
       "      <th></th>\n",
       "      <th>time</th>\n",
       "      <th>data</th>\n",
       "      <th>A</th>\n",
       "    </tr>\n",
       "  </thead>\n",
       "  <tbody>\n",
       "    <tr>\n",
       "      <th>0</th>\n",
       "      <td>1473411962</td>\n",
       "      <td>Symbol: APPL Seqno: 0 Price: 1623</td>\n",
       "      <td>a</td>\n",
       "    </tr>\n",
       "    <tr>\n",
       "      <th>1</th>\n",
       "      <td>1473411962</td>\n",
       "      <td>Symbol: APPL Seqno: 0 Price: 1623</td>\n",
       "      <td>a</td>\n",
       "    </tr>\n",
       "    <tr>\n",
       "      <th>2</th>\n",
       "      <td>1473411963</td>\n",
       "      <td>Symbol: APPL Seqno: 0 Price: 1623</td>\n",
       "      <td>a</td>\n",
       "    </tr>\n",
       "    <tr>\n",
       "      <th>3</th>\n",
       "      <td>1473411963</td>\n",
       "      <td>Symbol: APPL Seqno: 0 Price: 1623</td>\n",
       "      <td>a</td>\n",
       "    </tr>\n",
       "    <tr>\n",
       "      <th>4</th>\n",
       "      <td>1473411963</td>\n",
       "      <td>Symbol: APPL Seqno: 1 Price: 1649</td>\n",
       "      <td>a</td>\n",
       "    </tr>\n",
       "  </tbody>\n",
       "</table>\n",
       "</div>"
      ],
      "text/plain": [
       "         time                                data  A\n",
       "0  1473411962   Symbol: APPL Seqno: 0 Price: 1623  a\n",
       "1  1473411962   Symbol: APPL Seqno: 0 Price: 1623  a\n",
       "2  1473411963   Symbol: APPL Seqno: 0 Price: 1623  a\n",
       "3  1473411963   Symbol: APPL Seqno: 0 Price: 1623  a\n",
       "4  1473411963   Symbol: APPL Seqno: 1 Price: 1649  a"
      ]
     },
     "execution_count": 8,
     "metadata": {},
     "output_type": "execute_result"
    }
   ],
   "source": [
    "df.head()"
   ]
  },
  {
   "cell_type": "code",
   "execution_count": 9,
   "metadata": {
    "collapsed": true
   },
   "outputs": [],
   "source": [
    "df['A'] = df['A'].apply(str.upper)"
   ]
  },
  {
   "cell_type": "code",
   "execution_count": 11,
   "metadata": {
    "collapsed": false
   },
   "outputs": [
    {
     "data": {
      "text/html": [
       "<div>\n",
       "<table border=\"1\" class=\"dataframe\">\n",
       "  <thead>\n",
       "    <tr style=\"text-align: right;\">\n",
       "      <th></th>\n",
       "      <th>time</th>\n",
       "      <th>data</th>\n",
       "      <th>A</th>\n",
       "    </tr>\n",
       "  </thead>\n",
       "  <tbody>\n",
       "    <tr>\n",
       "      <th>0</th>\n",
       "      <td>1473411962</td>\n",
       "      <td>Symbol: APPL Seqno: 0 Price: 1623</td>\n",
       "      <td>A</td>\n",
       "    </tr>\n",
       "    <tr>\n",
       "      <th>1</th>\n",
       "      <td>1473411962</td>\n",
       "      <td>Symbol: APPL Seqno: 0 Price: 1623</td>\n",
       "      <td>A</td>\n",
       "    </tr>\n",
       "    <tr>\n",
       "      <th>2</th>\n",
       "      <td>1473411963</td>\n",
       "      <td>Symbol: APPL Seqno: 0 Price: 1623</td>\n",
       "      <td>A</td>\n",
       "    </tr>\n",
       "    <tr>\n",
       "      <th>3</th>\n",
       "      <td>1473411963</td>\n",
       "      <td>Symbol: APPL Seqno: 0 Price: 1623</td>\n",
       "      <td>A</td>\n",
       "    </tr>\n",
       "    <tr>\n",
       "      <th>4</th>\n",
       "      <td>1473411963</td>\n",
       "      <td>Symbol: APPL Seqno: 1 Price: 1649</td>\n",
       "      <td>A</td>\n",
       "    </tr>\n",
       "  </tbody>\n",
       "</table>\n",
       "</div>"
      ],
      "text/plain": [
       "         time                                data  A\n",
       "0  1473411962   Symbol: APPL Seqno: 0 Price: 1623  A\n",
       "1  1473411962   Symbol: APPL Seqno: 0 Price: 1623  A\n",
       "2  1473411963   Symbol: APPL Seqno: 0 Price: 1623  A\n",
       "3  1473411963   Symbol: APPL Seqno: 0 Price: 1623  A\n",
       "4  1473411963   Symbol: APPL Seqno: 1 Price: 1649  A"
      ]
     },
     "execution_count": 11,
     "metadata": {},
     "output_type": "execute_result"
    }
   ],
   "source": [
    "df.head()"
   ]
  },
  {
   "cell_type": "code",
   "execution_count": 17,
   "metadata": {
    "collapsed": false
   },
   "outputs": [],
   "source": [
    "l1 = df['data'][0].strip().split(' ')"
   ]
  },
  {
   "cell_type": "code",
   "execution_count": 19,
   "metadata": {
    "collapsed": false
   },
   "outputs": [
    {
     "data": {
      "text/plain": [
       "('APPL', '0', '1623')"
      ]
     },
     "execution_count": 19,
     "metadata": {},
     "output_type": "execute_result"
    }
   ],
   "source": [
    "l1[1], l1[3], l1[5]"
   ]
  },
  {
   "cell_type": "code",
   "execution_count": 20,
   "metadata": {
    "collapsed": true
   },
   "outputs": [],
   "source": [
    "def foo(line):\n",
    "    items = line.strip().split(' ')\n",
    "    return Series([items[1], items[3], items[5]])"
   ]
  },
  {
   "cell_type": "code",
   "execution_count": 21,
   "metadata": {
    "collapsed": true
   },
   "outputs": [],
   "source": [
    "df_tmp = df['data'].apply(foo)"
   ]
  },
  {
   "cell_type": "code",
   "execution_count": 22,
   "metadata": {
    "collapsed": false
   },
   "outputs": [
    {
     "data": {
      "text/html": [
       "<div>\n",
       "<table border=\"1\" class=\"dataframe\">\n",
       "  <thead>\n",
       "    <tr style=\"text-align: right;\">\n",
       "      <th></th>\n",
       "      <th>0</th>\n",
       "      <th>1</th>\n",
       "      <th>2</th>\n",
       "    </tr>\n",
       "  </thead>\n",
       "  <tbody>\n",
       "    <tr>\n",
       "      <th>0</th>\n",
       "      <td>APPL</td>\n",
       "      <td>0</td>\n",
       "      <td>1623</td>\n",
       "    </tr>\n",
       "    <tr>\n",
       "      <th>1</th>\n",
       "      <td>APPL</td>\n",
       "      <td>0</td>\n",
       "      <td>1623</td>\n",
       "    </tr>\n",
       "    <tr>\n",
       "      <th>2</th>\n",
       "      <td>APPL</td>\n",
       "      <td>0</td>\n",
       "      <td>1623</td>\n",
       "    </tr>\n",
       "    <tr>\n",
       "      <th>3</th>\n",
       "      <td>APPL</td>\n",
       "      <td>0</td>\n",
       "      <td>1623</td>\n",
       "    </tr>\n",
       "    <tr>\n",
       "      <th>4</th>\n",
       "      <td>APPL</td>\n",
       "      <td>1</td>\n",
       "      <td>1649</td>\n",
       "    </tr>\n",
       "  </tbody>\n",
       "</table>\n",
       "</div>"
      ],
      "text/plain": [
       "      0  1     2\n",
       "0  APPL  0  1623\n",
       "1  APPL  0  1623\n",
       "2  APPL  0  1623\n",
       "3  APPL  0  1623\n",
       "4  APPL  1  1649"
      ]
     },
     "execution_count": 22,
     "metadata": {},
     "output_type": "execute_result"
    }
   ],
   "source": [
    "df_tmp.head()"
   ]
  },
  {
   "cell_type": "code",
   "execution_count": 31,
   "metadata": {
    "collapsed": false
   },
   "outputs": [],
   "source": [
    "df_tmp = df_tmp.rename(columns={0: \"Symbol\", 1: \"Seqno\", 2: \"Price\"})"
   ]
  },
  {
   "cell_type": "code",
   "execution_count": 54,
   "metadata": {
    "collapsed": false
   },
   "outputs": [
    {
     "data": {
      "text/html": [
       "<div>\n",
       "<table border=\"1\" class=\"dataframe\">\n",
       "  <thead>\n",
       "    <tr style=\"text-align: right;\">\n",
       "      <th></th>\n",
       "      <th>Symbol</th>\n",
       "      <th>Seqno</th>\n",
       "      <th>Price</th>\n",
       "    </tr>\n",
       "  </thead>\n",
       "  <tbody>\n",
       "    <tr>\n",
       "      <th>0</th>\n",
       "      <td>APPL</td>\n",
       "      <td>0</td>\n",
       "      <td>1623</td>\n",
       "    </tr>\n",
       "    <tr>\n",
       "      <th>1</th>\n",
       "      <td>APPL</td>\n",
       "      <td>0</td>\n",
       "      <td>1623</td>\n",
       "    </tr>\n",
       "    <tr>\n",
       "      <th>2</th>\n",
       "      <td>APPL</td>\n",
       "      <td>0</td>\n",
       "      <td>1623</td>\n",
       "    </tr>\n",
       "    <tr>\n",
       "      <th>3</th>\n",
       "      <td>APPL</td>\n",
       "      <td>0</td>\n",
       "      <td>1623</td>\n",
       "    </tr>\n",
       "    <tr>\n",
       "      <th>4</th>\n",
       "      <td>APPL</td>\n",
       "      <td>1</td>\n",
       "      <td>1649</td>\n",
       "    </tr>\n",
       "  </tbody>\n",
       "</table>\n",
       "</div>"
      ],
      "text/plain": [
       "  Symbol Seqno Price\n",
       "0   APPL     0  1623\n",
       "1   APPL     0  1623\n",
       "2   APPL     0  1623\n",
       "3   APPL     0  1623\n",
       "4   APPL     1  1649"
      ]
     },
     "execution_count": 54,
     "metadata": {},
     "output_type": "execute_result"
    }
   ],
   "source": [
    "df_tmp.head()"
   ]
  },
  {
   "cell_type": "code",
   "execution_count": 62,
   "metadata": {
    "collapsed": false
   },
   "outputs": [
    {
     "data": {
      "text/html": [
       "<div>\n",
       "<table border=\"1\" class=\"dataframe\">\n",
       "  <thead>\n",
       "    <tr style=\"text-align: right;\">\n",
       "      <th></th>\n",
       "      <th>time</th>\n",
       "      <th>data</th>\n",
       "      <th>A</th>\n",
       "    </tr>\n",
       "  </thead>\n",
       "  <tbody>\n",
       "    <tr>\n",
       "      <th>0</th>\n",
       "      <td>1473411962</td>\n",
       "      <td>Symbol: APPL Seqno: 0 Price: 1623</td>\n",
       "      <td>A</td>\n",
       "    </tr>\n",
       "    <tr>\n",
       "      <th>1</th>\n",
       "      <td>1473411962</td>\n",
       "      <td>Symbol: APPL Seqno: 0 Price: 1623</td>\n",
       "      <td>A</td>\n",
       "    </tr>\n",
       "    <tr>\n",
       "      <th>2</th>\n",
       "      <td>1473411963</td>\n",
       "      <td>Symbol: APPL Seqno: 0 Price: 1623</td>\n",
       "      <td>A</td>\n",
       "    </tr>\n",
       "    <tr>\n",
       "      <th>3</th>\n",
       "      <td>1473411963</td>\n",
       "      <td>Symbol: APPL Seqno: 0 Price: 1623</td>\n",
       "      <td>A</td>\n",
       "    </tr>\n",
       "    <tr>\n",
       "      <th>4</th>\n",
       "      <td>1473411963</td>\n",
       "      <td>Symbol: APPL Seqno: 1 Price: 1649</td>\n",
       "      <td>A</td>\n",
       "    </tr>\n",
       "  </tbody>\n",
       "</table>\n",
       "</div>"
      ],
      "text/plain": [
       "         time                                data  A\n",
       "0  1473411962   Symbol: APPL Seqno: 0 Price: 1623  A\n",
       "1  1473411962   Symbol: APPL Seqno: 0 Price: 1623  A\n",
       "2  1473411963   Symbol: APPL Seqno: 0 Price: 1623  A\n",
       "3  1473411963   Symbol: APPL Seqno: 0 Price: 1623  A\n",
       "4  1473411963   Symbol: APPL Seqno: 1 Price: 1649  A"
      ]
     },
     "execution_count": 62,
     "metadata": {},
     "output_type": "execute_result"
    }
   ],
   "source": [
    "df.head()"
   ]
  },
  {
   "cell_type": "code",
   "execution_count": 63,
   "metadata": {
    "collapsed": false
   },
   "outputs": [],
   "source": [
    "df_new = df.combine_first(df_tmp)"
   ]
  },
  {
   "cell_type": "code",
   "execution_count": 64,
   "metadata": {
    "collapsed": false
   },
   "outputs": [
    {
     "data": {
      "text/html": [
       "<div>\n",
       "<table border=\"1\" class=\"dataframe\">\n",
       "  <thead>\n",
       "    <tr style=\"text-align: right;\">\n",
       "      <th></th>\n",
       "      <th>A</th>\n",
       "      <th>Price</th>\n",
       "      <th>Seqno</th>\n",
       "      <th>Symbol</th>\n",
       "      <th>data</th>\n",
       "      <th>time</th>\n",
       "    </tr>\n",
       "  </thead>\n",
       "  <tbody>\n",
       "    <tr>\n",
       "      <th>0</th>\n",
       "      <td>A</td>\n",
       "      <td>1623.0</td>\n",
       "      <td>0.0</td>\n",
       "      <td>APPL</td>\n",
       "      <td>Symbol: APPL Seqno: 0 Price: 1623</td>\n",
       "      <td>1473411962</td>\n",
       "    </tr>\n",
       "    <tr>\n",
       "      <th>1</th>\n",
       "      <td>A</td>\n",
       "      <td>1623.0</td>\n",
       "      <td>0.0</td>\n",
       "      <td>APPL</td>\n",
       "      <td>Symbol: APPL Seqno: 0 Price: 1623</td>\n",
       "      <td>1473411962</td>\n",
       "    </tr>\n",
       "    <tr>\n",
       "      <th>2</th>\n",
       "      <td>A</td>\n",
       "      <td>1623.0</td>\n",
       "      <td>0.0</td>\n",
       "      <td>APPL</td>\n",
       "      <td>Symbol: APPL Seqno: 0 Price: 1623</td>\n",
       "      <td>1473411963</td>\n",
       "    </tr>\n",
       "    <tr>\n",
       "      <th>3</th>\n",
       "      <td>A</td>\n",
       "      <td>1623.0</td>\n",
       "      <td>0.0</td>\n",
       "      <td>APPL</td>\n",
       "      <td>Symbol: APPL Seqno: 0 Price: 1623</td>\n",
       "      <td>1473411963</td>\n",
       "    </tr>\n",
       "    <tr>\n",
       "      <th>4</th>\n",
       "      <td>A</td>\n",
       "      <td>1649.0</td>\n",
       "      <td>1.0</td>\n",
       "      <td>APPL</td>\n",
       "      <td>Symbol: APPL Seqno: 1 Price: 1649</td>\n",
       "      <td>1473411963</td>\n",
       "    </tr>\n",
       "  </tbody>\n",
       "</table>\n",
       "</div>"
      ],
      "text/plain": [
       "   A   Price  Seqno Symbol                                data        time\n",
       "0  A  1623.0    0.0   APPL   Symbol: APPL Seqno: 0 Price: 1623  1473411962\n",
       "1  A  1623.0    0.0   APPL   Symbol: APPL Seqno: 0 Price: 1623  1473411962\n",
       "2  A  1623.0    0.0   APPL   Symbol: APPL Seqno: 0 Price: 1623  1473411963\n",
       "3  A  1623.0    0.0   APPL   Symbol: APPL Seqno: 0 Price: 1623  1473411963\n",
       "4  A  1649.0    1.0   APPL   Symbol: APPL Seqno: 1 Price: 1649  1473411963"
      ]
     },
     "execution_count": 64,
     "metadata": {},
     "output_type": "execute_result"
    }
   ],
   "source": [
    "df_new.head()"
   ]
  },
  {
   "cell_type": "code",
   "execution_count": 65,
   "metadata": {
    "collapsed": false
   },
   "outputs": [],
   "source": [
    "del df_new['data']\n",
    "del df_new['A']"
   ]
  },
  {
   "cell_type": "code",
   "execution_count": 66,
   "metadata": {
    "collapsed": false
   },
   "outputs": [
    {
     "data": {
      "text/html": [
       "<div>\n",
       "<table border=\"1\" class=\"dataframe\">\n",
       "  <thead>\n",
       "    <tr style=\"text-align: right;\">\n",
       "      <th></th>\n",
       "      <th>Price</th>\n",
       "      <th>Seqno</th>\n",
       "      <th>Symbol</th>\n",
       "      <th>time</th>\n",
       "    </tr>\n",
       "  </thead>\n",
       "  <tbody>\n",
       "    <tr>\n",
       "      <th>0</th>\n",
       "      <td>1623.0</td>\n",
       "      <td>0.0</td>\n",
       "      <td>APPL</td>\n",
       "      <td>1473411962</td>\n",
       "    </tr>\n",
       "    <tr>\n",
       "      <th>1</th>\n",
       "      <td>1623.0</td>\n",
       "      <td>0.0</td>\n",
       "      <td>APPL</td>\n",
       "      <td>1473411962</td>\n",
       "    </tr>\n",
       "    <tr>\n",
       "      <th>2</th>\n",
       "      <td>1623.0</td>\n",
       "      <td>0.0</td>\n",
       "      <td>APPL</td>\n",
       "      <td>1473411963</td>\n",
       "    </tr>\n",
       "    <tr>\n",
       "      <th>3</th>\n",
       "      <td>1623.0</td>\n",
       "      <td>0.0</td>\n",
       "      <td>APPL</td>\n",
       "      <td>1473411963</td>\n",
       "    </tr>\n",
       "    <tr>\n",
       "      <th>4</th>\n",
       "      <td>1649.0</td>\n",
       "      <td>1.0</td>\n",
       "      <td>APPL</td>\n",
       "      <td>1473411963</td>\n",
       "    </tr>\n",
       "  </tbody>\n",
       "</table>\n",
       "</div>"
      ],
      "text/plain": [
       "    Price  Seqno Symbol        time\n",
       "0  1623.0    0.0   APPL  1473411962\n",
       "1  1623.0    0.0   APPL  1473411962\n",
       "2  1623.0    0.0   APPL  1473411963\n",
       "3  1623.0    0.0   APPL  1473411963\n",
       "4  1649.0    1.0   APPL  1473411963"
      ]
     },
     "execution_count": 66,
     "metadata": {},
     "output_type": "execute_result"
    }
   ],
   "source": [
    "df_new.head()"
   ]
  },
  {
   "cell_type": "code",
   "execution_count": 67,
   "metadata": {
    "collapsed": true
   },
   "outputs": [],
   "source": [
    "df_new.to_csv('demo_duplicate1.csv')"
   ]
  },
  {
   "cell_type": "code",
   "execution_count": 68,
   "metadata": {
    "collapsed": false
   },
   "outputs": [
    {
     "name": "stdout",
     "output_type": "stream",
     "text": [
      " 驱动器 E 中的卷是 资料\n",
      " 卷的序列号是 9680-46FC\n",
      "\n",
      " E:\\DeepLearning\\jupyter_code\\jupyter notebook\\python数据分析实战 的目录\n",
      "\n",
      "2018/09/22  15:53    <DIR>          .\n",
      "2018/09/22  15:53    <DIR>          ..\n",
      "2018/09/22  15:12    <DIR>          .ipynb_checkpoints\n",
      "2018/09/21  15:28             2,331 01.Anaconda与Jupyter notebook介绍.ipynb\n",
      "2018/09/21  15:38             1,396 02.矩阵运算.ipynb\n",
      "2018/09/21  15:48             8,408 03.Array的创建及访问.ipynb\n",
      "2018/09/21  15:58            13,397 04.数组与矩阵运算.ipynb\n",
      "2018/09/21  16:08             7,413 05.Array中的input和output.ipynb\n",
      "2018/09/21  16:17             7,713 06.Series.ipynb\n",
      "2018/09/21  16:42            44,744 07.DataFrame.ipynb\n",
      "2018/09/21  20:07            16,471 08.深入理解Series和DataFrame.ipynb\n",
      "2018/09/21  20:36            23,316 09.Pandas-DataFrame-IO操作.ipynb\n",
      "2018/09/21  21:13           173,642 10.DataFrame的selecting and Indexing.ipynb\n",
      "2018/09/21  21:33            25,390 11.Series和DataFrame的Reindexing.ipynb\n",
      "2018/09/21  22:16            23,089 12.谈一谈缺失值NaN.ipynb\n",
      "2018/09/21  22:35            14,316 13.多级Index.ipynb\n",
      "2018/09/21  22:48             8,425 14.Mapping和Replace.ipynb\n",
      "2018/09/21  23:01            10,762 15.Series和DataFrame的简单数学运算.ipynb\n",
      "2018/09/21  23:09            22,832 16.Series和DataFrame的排序功能.ipynb\n",
      "2018/09/21  23:31            19,029 17.重命名DataFrame的index.ipynb\n",
      "2018/09/21  23:41            12,863 18.DataFrame的merge操作.ipynb\n",
      "2018/09/21  23:56            19,257 19.Concatenate和Combine.ipynb\n",
      "2018/09/22  15:52            27,213 20.通过apply进行数据处理.ipynb\n",
      "2018/08/22  12:08            42,706 AMZN.csv\n",
      "2018/08/22  12:08           195,031 apply_demo.csv\n",
      "2018/08/22  12:08            38,415 BABA.csv\n",
      "2018/08/22  12:08               423 city_weather.csv\n",
      "2018/08/22  12:08           134,102 demo_duplicate.csv\n",
      "2018/09/22  15:53            78,761 demo_duplicate1.csv\n",
      "2018/09/21  20:34               509 df1.csv\n",
      "2018/09/21  20:34             2,057 df1.html\n",
      "2018/09/21  20:36             6,007 df1.xlsx\n",
      "2018/09/21  23:17           207,774 imdb.csv\n",
      "2018/08/22  12:08             4,600 iris.csv\n",
      "2017/09/06  00:17         1,494,688 movie_metadata.csv\n",
      "2018/09/21  16:06               120 one_array.npy\n",
      "2018/08/22  12:08            44,028 Pokemon.csv\n",
      "2018/08/22  12:08             9,520 sales-funnel.xlsx\n",
      "2018/08/22  12:08            52,089 top5.csv\n",
      "2018/08/22  12:08            61,194 train.csv\n",
      "2018/09/21  16:08               474 two_array.npz\n",
      "2018/08/22  12:08        10,578,201 usa_flights.csv\n",
      "2018/09/21  16:05               195 x.pkl\n",
      "              40 个文件     13,432,901 字节\n",
      "               3 个目录 95,580,590,080 可用字节\n"
     ]
    }
   ],
   "source": [
    "ls"
   ]
  },
  {
   "cell_type": "code",
   "execution_count": null,
   "metadata": {
    "collapsed": true
   },
   "outputs": [],
   "source": []
  }
 ],
 "metadata": {
  "anaconda-cloud": {},
  "kernelspec": {
   "display_name": "Python [conda env:Anaconda3]",
   "language": "python",
   "name": "conda-env-Anaconda3-py"
  },
  "language_info": {
   "codemirror_mode": {
    "name": "ipython",
    "version": 3
   },
   "file_extension": ".py",
   "mimetype": "text/x-python",
   "name": "python",
   "nbconvert_exporter": "python",
   "pygments_lexer": "ipython3",
   "version": "3.5.2"
  }
 },
 "nbformat": 4,
 "nbformat_minor": 1
}
