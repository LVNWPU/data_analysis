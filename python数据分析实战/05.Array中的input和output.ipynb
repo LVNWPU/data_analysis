{
 "cells": [
  {
   "cell_type": "markdown",
   "metadata": {},
   "source": [
    "### 使用pickle序列化numpy array\n"
   ]
  },
  {
   "cell_type": "code",
   "execution_count": 2,
   "metadata": {
    "collapsed": true
   },
   "outputs": [],
   "source": [
    "import numpy as np\n",
    "import pickle"
   ]
  },
  {
   "cell_type": "code",
   "execution_count": 3,
   "metadata": {
    "collapsed": true
   },
   "outputs": [],
   "source": [
    "x = np.arange(10)"
   ]
  },
  {
   "cell_type": "code",
   "execution_count": 4,
   "metadata": {
    "collapsed": false
   },
   "outputs": [
    {
     "data": {
      "text/plain": [
       "array([0, 1, 2, 3, 4, 5, 6, 7, 8, 9])"
      ]
     },
     "execution_count": 4,
     "metadata": {},
     "output_type": "execute_result"
    }
   ],
   "source": [
    "x"
   ]
  },
  {
   "cell_type": "code",
   "execution_count": 5,
   "metadata": {
    "collapsed": true
   },
   "outputs": [],
   "source": [
    "f = open('x.pkl', 'wb')\n",
    "pickle.dump(x, f)"
   ]
  },
  {
   "cell_type": "code",
   "execution_count": 13,
   "metadata": {
    "collapsed": false
   },
   "outputs": [
    {
     "name": "stdout",
     "output_type": "stream",
     "text": [
      " 驱动器 E 中的卷是 资料\n",
      " 卷的序列号是 9680-46FC\n",
      "\n",
      " E:\\DeepLearning\\jupyter_code\\jupyter notebook\\python数据分析实战 的目录\n",
      "\n",
      "2018/09/21  16:03    <DIR>          .\n",
      "2018/09/21  16:03    <DIR>          ..\n",
      "2018/09/21  16:01    <DIR>          .ipynb_checkpoints\n",
      "2018/09/21  15:28             2,331 1.Anaconda与Jupyter notebook介绍.ipynb\n",
      "2018/09/21  15:38             1,396 2.矩阵运算.ipynb\n",
      "2018/09/21  15:48             8,408 3.Array的创建及访问.ipynb\n",
      "2018/09/21  15:58            13,397 4.数组与矩阵运算.ipynb\n",
      "2018/09/21  16:02             1,103 5.Array中的input和output.ipynb\n",
      "2018/09/21  16:03                 0 x.pkl\n",
      "               6 个文件         26,635 字节\n",
      "               3 个目录 95,594,225,664 可用字节\n"
     ]
    }
   ],
   "source": [
    "ls"
   ]
  },
  {
   "cell_type": "code",
   "execution_count": 14,
   "metadata": {
    "collapsed": false
   },
   "outputs": [
    {
     "data": {
      "text/plain": [
       "array([0, 1, 2, 3, 4, 5, 6, 7, 8, 9])"
      ]
     },
     "execution_count": 14,
     "metadata": {},
     "output_type": "execute_result"
    }
   ],
   "source": [
    "f = open('x.pkl', 'rb')\n",
    "pickle.load(f)"
   ]
  },
  {
   "cell_type": "code",
   "execution_count": 15,
   "metadata": {
    "collapsed": true
   },
   "outputs": [],
   "source": [
    "np.save('one_array', x)"
   ]
  },
  {
   "cell_type": "code",
   "execution_count": 17,
   "metadata": {
    "collapsed": false
   },
   "outputs": [
    {
     "name": "stdout",
     "output_type": "stream",
     "text": [
      " 驱动器 E 中的卷是 资料\n",
      " 卷的序列号是 9680-46FC\n",
      "\n",
      " E:\\DeepLearning\\jupyter_code\\jupyter notebook\\python数据分析实战 的目录\n",
      "\n",
      "2018/09/21  16:06    <DIR>          .\n",
      "2018/09/21  16:06    <DIR>          ..\n",
      "2018/09/21  16:01    <DIR>          .ipynb_checkpoints\n",
      "2018/09/21  15:28             2,331 1.Anaconda与Jupyter notebook介绍.ipynb\n",
      "2018/09/21  15:38             1,396 2.矩阵运算.ipynb\n",
      "2018/09/21  15:48             8,408 3.Array的创建及访问.ipynb\n",
      "2018/09/21  15:58            13,397 4.数组与矩阵运算.ipynb\n",
      "2018/09/21  16:04             2,966 5.Array中的input和output.ipynb\n",
      "2018/09/21  16:06               120 one_array.npy\n",
      "2018/09/21  16:05               195 x.pkl\n",
      "               7 个文件         28,813 字节\n",
      "               3 个目录 95,594,225,664 可用字节\n"
     ]
    }
   ],
   "source": [
    "ls"
   ]
  },
  {
   "cell_type": "code",
   "execution_count": 19,
   "metadata": {
    "collapsed": false
   },
   "outputs": [
    {
     "data": {
      "text/plain": [
       "array([0, 1, 2, 3, 4, 5, 6, 7, 8, 9])"
      ]
     },
     "execution_count": 19,
     "metadata": {},
     "output_type": "execute_result"
    }
   ],
   "source": [
    "np.load('one_array.npy')"
   ]
  },
  {
   "cell_type": "code",
   "execution_count": 20,
   "metadata": {
    "collapsed": true
   },
   "outputs": [],
   "source": [
    "y = np.arange(20)"
   ]
  },
  {
   "cell_type": "code",
   "execution_count": 21,
   "metadata": {
    "collapsed": false
   },
   "outputs": [
    {
     "data": {
      "text/plain": [
       "array([ 0,  1,  2,  3,  4,  5,  6,  7,  8,  9, 10, 11, 12, 13, 14, 15, 16,\n",
       "       17, 18, 19])"
      ]
     },
     "execution_count": 21,
     "metadata": {},
     "output_type": "execute_result"
    }
   ],
   "source": [
    "y"
   ]
  },
  {
   "cell_type": "code",
   "execution_count": 26,
   "metadata": {
    "collapsed": true
   },
   "outputs": [],
   "source": [
    "np.savez('two_array.npz', a=x, b=y)"
   ]
  },
  {
   "cell_type": "code",
   "execution_count": 27,
   "metadata": {
    "collapsed": false
   },
   "outputs": [
    {
     "name": "stdout",
     "output_type": "stream",
     "text": [
      " 驱动器 E 中的卷是 资料\n",
      " 卷的序列号是 9680-46FC\n",
      "\n",
      " E:\\DeepLearning\\jupyter_code\\jupyter notebook\\python数据分析实战 的目录\n",
      "\n",
      "2018/09/21  16:08    <DIR>          .\n",
      "2018/09/21  16:08    <DIR>          ..\n",
      "2018/09/21  16:01    <DIR>          .ipynb_checkpoints\n",
      "2018/09/21  15:28             2,331 1.Anaconda与Jupyter notebook介绍.ipynb\n",
      "2018/09/21  15:38             1,396 2.矩阵运算.ipynb\n",
      "2018/09/21  15:48             8,408 3.Array的创建及访问.ipynb\n",
      "2018/09/21  15:58            13,397 4.数组与矩阵运算.ipynb\n",
      "2018/09/21  16:06             5,608 5.Array中的input和output.ipynb\n",
      "2018/09/21  16:06               120 one_array.npy\n",
      "2018/09/21  16:08               474 tow_array.npz\n",
      "2018/09/21  16:07               474 tw_array.npz\n",
      "2018/09/21  16:08               474 two_array.npz\n",
      "2018/09/21  16:05               195 x.pkl\n",
      "              10 个文件         32,877 字节\n",
      "               3 个目录 95,594,221,568 可用字节\n"
     ]
    }
   ],
   "source": [
    "ls"
   ]
  },
  {
   "cell_type": "code",
   "execution_count": 29,
   "metadata": {
    "collapsed": false
   },
   "outputs": [],
   "source": [
    "c = np.load(\"two_array.npz\")"
   ]
  },
  {
   "cell_type": "code",
   "execution_count": null,
   "metadata": {
    "collapsed": true
   },
   "outputs": [],
   "source": [
    "c"
   ]
  }
 ],
 "metadata": {
  "kernelspec": {
   "display_name": "Python [conda env:Anaconda3]",
   "language": "python",
   "name": "conda-env-Anaconda3-py"
  },
  "language_info": {
   "codemirror_mode": {
    "name": "ipython",
    "version": 3
   },
   "file_extension": ".py",
   "mimetype": "text/x-python",
   "name": "python",
   "nbconvert_exporter": "python",
   "pygments_lexer": "ipython3",
   "version": "3.5.2"
  }
 },
 "nbformat": 4,
 "nbformat_minor": 1
}
