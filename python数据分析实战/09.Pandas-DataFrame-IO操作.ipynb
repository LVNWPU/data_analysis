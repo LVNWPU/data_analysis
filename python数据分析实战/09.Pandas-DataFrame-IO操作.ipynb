{
 "cells": [
  {
   "cell_type": "code",
   "execution_count": 11,
   "metadata": {
    "collapsed": true
   },
   "outputs": [],
   "source": [
    "import numpy as np\n",
    "import pandas as pd\n",
    "from pandas import Series, DataFrame"
   ]
  },
  {
   "cell_type": "code",
   "execution_count": 12,
   "metadata": {
    "collapsed": true
   },
   "outputs": [],
   "source": [
    "import webbrowser"
   ]
  },
  {
   "cell_type": "code",
   "execution_count": 13,
   "metadata": {
    "collapsed": false
   },
   "outputs": [
    {
     "data": {
      "text/plain": [
       "True"
      ]
     },
     "execution_count": 13,
     "metadata": {},
     "output_type": "execute_result"
    }
   ],
   "source": [
    "link = 'http://pandas.pydata.org/pandas-docs/version/0.20/io.html'\n",
    "webbrowser.open(link)"
   ]
  },
  {
   "cell_type": "code",
   "execution_count": 18,
   "metadata": {
    "collapsed": true
   },
   "outputs": [],
   "source": [
    "df1 = pd.read_clipboard()  # 从粘贴板中读取数据"
   ]
  },
  {
   "cell_type": "code",
   "execution_count": 19,
   "metadata": {
    "collapsed": false
   },
   "outputs": [
    {
     "data": {
      "text/html": [
       "<div>\n",
       "<table border=\"1\" class=\"dataframe\">\n",
       "  <thead>\n",
       "    <tr style=\"text-align: right;\">\n",
       "      <th></th>\n",
       "      <th>Format Type</th>\n",
       "      <th>Data Description</th>\n",
       "      <th>Reader</th>\n",
       "      <th>Writer</th>\n",
       "    </tr>\n",
       "  </thead>\n",
       "  <tbody>\n",
       "    <tr>\n",
       "      <th>0</th>\n",
       "      <td>text</td>\n",
       "      <td>CSV</td>\n",
       "      <td>read_csv</td>\n",
       "      <td>to_csv</td>\n",
       "    </tr>\n",
       "    <tr>\n",
       "      <th>1</th>\n",
       "      <td>text</td>\n",
       "      <td>JSON</td>\n",
       "      <td>read_json</td>\n",
       "      <td>to_json</td>\n",
       "    </tr>\n",
       "    <tr>\n",
       "      <th>2</th>\n",
       "      <td>text</td>\n",
       "      <td>HTML</td>\n",
       "      <td>read_html</td>\n",
       "      <td>to_html</td>\n",
       "    </tr>\n",
       "    <tr>\n",
       "      <th>3</th>\n",
       "      <td>text</td>\n",
       "      <td>Local clipboard</td>\n",
       "      <td>read_clipboard</td>\n",
       "      <td>to_clipboard</td>\n",
       "    </tr>\n",
       "    <tr>\n",
       "      <th>4</th>\n",
       "      <td>binary</td>\n",
       "      <td>MS Excel</td>\n",
       "      <td>read_excel</td>\n",
       "      <td>to_excel</td>\n",
       "    </tr>\n",
       "    <tr>\n",
       "      <th>5</th>\n",
       "      <td>binary</td>\n",
       "      <td>HDF5 Format</td>\n",
       "      <td>read_hdf</td>\n",
       "      <td>to_hdf</td>\n",
       "    </tr>\n",
       "    <tr>\n",
       "      <th>6</th>\n",
       "      <td>binary</td>\n",
       "      <td>Feather Format</td>\n",
       "      <td>read_feather</td>\n",
       "      <td>to_feather</td>\n",
       "    </tr>\n",
       "    <tr>\n",
       "      <th>7</th>\n",
       "      <td>binary</td>\n",
       "      <td>Msgpack</td>\n",
       "      <td>read_msgpack</td>\n",
       "      <td>to_msgpack</td>\n",
       "    </tr>\n",
       "    <tr>\n",
       "      <th>8</th>\n",
       "      <td>binary</td>\n",
       "      <td>Stata</td>\n",
       "      <td>read_stata</td>\n",
       "      <td>to_stata</td>\n",
       "    </tr>\n",
       "    <tr>\n",
       "      <th>9</th>\n",
       "      <td>binary</td>\n",
       "      <td>SAS</td>\n",
       "      <td>read_sas</td>\n",
       "      <td></td>\n",
       "    </tr>\n",
       "    <tr>\n",
       "      <th>10</th>\n",
       "      <td>binary</td>\n",
       "      <td>Python Pickle Format</td>\n",
       "      <td>read_pickle</td>\n",
       "      <td>to_pickle</td>\n",
       "    </tr>\n",
       "    <tr>\n",
       "      <th>11</th>\n",
       "      <td>SQL</td>\n",
       "      <td>SQL</td>\n",
       "      <td>read_sql</td>\n",
       "      <td>to_sql</td>\n",
       "    </tr>\n",
       "    <tr>\n",
       "      <th>12</th>\n",
       "      <td>SQL</td>\n",
       "      <td>Google Big Query</td>\n",
       "      <td>read_gbq</td>\n",
       "      <td>to_gbq</td>\n",
       "    </tr>\n",
       "  </tbody>\n",
       "</table>\n",
       "</div>"
      ],
      "text/plain": [
       "   Format Type      Data Description          Reader        Writer\n",
       "0         text                   CSV        read_csv        to_csv\n",
       "1         text                  JSON       read_json       to_json\n",
       "2         text                  HTML       read_html       to_html\n",
       "3         text       Local clipboard  read_clipboard  to_clipboard\n",
       "4       binary              MS Excel      read_excel      to_excel\n",
       "5       binary           HDF5 Format        read_hdf        to_hdf\n",
       "6       binary        Feather Format    read_feather    to_feather\n",
       "7       binary               Msgpack    read_msgpack    to_msgpack\n",
       "8       binary                 Stata      read_stata      to_stata\n",
       "9       binary                   SAS        read_sas              \n",
       "10      binary  Python Pickle Format     read_pickle     to_pickle\n",
       "11         SQL                   SQL        read_sql        to_sql\n",
       "12         SQL      Google Big Query        read_gbq        to_gbq"
      ]
     },
     "execution_count": 19,
     "metadata": {},
     "output_type": "execute_result"
    }
   ],
   "source": [
    "df1"
   ]
  },
  {
   "cell_type": "code",
   "execution_count": 20,
   "metadata": {
    "collapsed": false
   },
   "outputs": [],
   "source": [
    "df1.to_clipboard()  #  将数据从dataFrame写入到粘贴板中，最后复制粘贴到excel中"
   ]
  },
  {
   "cell_type": "code",
   "execution_count": 21,
   "metadata": {
    "collapsed": false
   },
   "outputs": [
    {
     "ename": "SyntaxError",
     "evalue": "invalid syntax (<ipython-input-21-0f84ff6fd018>, line 1)",
     "output_type": "error",
     "traceback": [
      "\u001b[0;36m  File \u001b[0;32m\"<ipython-input-21-0f84ff6fd018>\"\u001b[0;36m, line \u001b[0;32m1\u001b[0m\n\u001b[0;31m    Format Type\tData Description\tReader\tWriter\u001b[0m\n\u001b[0m              ^\u001b[0m\n\u001b[0;31mSyntaxError\u001b[0m\u001b[0;31m:\u001b[0m invalid syntax\n"
     ]
    }
   ],
   "source": [
    "\tFormat Type\tData Description\tReader\tWriter\n",
    "0\ttext\tCSV\tread_csv\tto_csv\n",
    "1\ttext\tJSON\tread_json\tto_json\n",
    "2\ttext\tHTML\tread_html\tto_html\n",
    "3\ttext\tLocal clipboard\tread_clipboard\tto_clipboard\n",
    "4\tbinary\tMS Excel\tread_excel\tto_excel\n",
    "5\tbinary\tHDF5 Format\tread_hdf\tto_hdf\n",
    "6\tbinary\tFeather Format\tread_feather\tto_feather\n",
    "7\tbinary\tMsgpack\tread_msgpack\tto_msgpack\n",
    "8\tbinary\tStata\tread_stata\tto_stata\n",
    "9\tbinary\tSAS\tread_sas\t \n",
    "10\tbinary\tPython Pickle Format\tread_pickle\tto_pickle\n",
    "11\tSQL\tSQL\tread_sql\tto_sql\n",
    "12\tSQL\tGoogle Big Query\tread_gbq\tto_gbq\n"
   ]
  },
  {
   "cell_type": "code",
   "execution_count": 26,
   "metadata": {
    "collapsed": true
   },
   "outputs": [],
   "source": [
    "# 将数据保存到CSV文件中\n",
    "df1.to_csv('df1.csv', index=False)  # index=False将不会把索引写入df1.csv文件中"
   ]
  },
  {
   "cell_type": "code",
   "execution_count": 28,
   "metadata": {
    "collapsed": false
   },
   "outputs": [
    {
     "name": "stdout",
     "output_type": "stream",
     "text": [
      " 驱动器 E 中的卷是 资料\n",
      " 卷的序列号是 9680-46FC\n",
      "\n",
      " E:\\DeepLearning\\jupyter_code\\jupyter notebook\\python数据分析实战 的目录\n",
      "\n",
      "2018/09/21  20:32    <DIR>          .\n",
      "2018/09/21  20:32    <DIR>          ..\n",
      "2018/09/21  20:08    <DIR>          .ipynb_checkpoints\n",
      "2018/09/21  15:28             2,331 1.Anaconda与Jupyter notebook介绍.ipynb\n",
      "2018/09/21  15:38             1,396 2.矩阵运算.ipynb\n",
      "2018/09/21  15:48             8,408 3.Array的创建及访问.ipynb\n",
      "2018/09/21  15:58            13,397 4.数组与矩阵运算.ipynb\n",
      "2018/09/21  16:08             7,413 5.Array中的input和output.ipynb\n",
      "2018/09/21  16:17             7,713 6.Series.ipynb\n",
      "2018/09/21  16:42            44,744 7.DataFrame.ipynb\n",
      "2018/09/21  20:07            16,471 8.深入理解Series和DataFrame.ipynb\n",
      "2018/09/21  20:28            21,139 9.Pandas-DataFrame-IO操作.ipynb\n",
      "2018/09/21  20:34               509 df1.csv\n",
      "2018/09/21  20:32               204 df1.html\n",
      "2018/09/21  16:06               120 one_array.npy\n",
      "2018/09/21  16:08               474 two_array.npz\n",
      "2018/09/21  16:05               195 x.pkl\n",
      "              14 个文件        124,514 字节\n",
      "               3 个目录 95,594,110,976 可用字节\n"
     ]
    }
   ],
   "source": [
    "ls"
   ]
  },
  {
   "cell_type": "markdown",
   "metadata": {},
   "source": [
    "#### 查看文件内容"
   ]
  },
  {
   "cell_type": "code",
   "execution_count": 29,
   "metadata": {
    "collapsed": false
   },
   "outputs": [],
   "source": [
    "more df1.csv  "
   ]
  },
  {
   "cell_type": "code",
   "execution_count": 30,
   "metadata": {
    "collapsed": true
   },
   "outputs": [],
   "source": [
    "# 读取csv文件\n",
    "df2 = pd.read_csv('df1.csv')"
   ]
  },
  {
   "cell_type": "code",
   "execution_count": 31,
   "metadata": {
    "collapsed": false
   },
   "outputs": [
    {
     "data": {
      "text/html": [
       "<div>\n",
       "<table border=\"1\" class=\"dataframe\">\n",
       "  <thead>\n",
       "    <tr style=\"text-align: right;\">\n",
       "      <th></th>\n",
       "      <th>Format Type</th>\n",
       "      <th>Data Description</th>\n",
       "      <th>Reader</th>\n",
       "      <th>Writer</th>\n",
       "    </tr>\n",
       "  </thead>\n",
       "  <tbody>\n",
       "    <tr>\n",
       "      <th>0</th>\n",
       "      <td>text</td>\n",
       "      <td>CSV</td>\n",
       "      <td>read_csv</td>\n",
       "      <td>to_csv</td>\n",
       "    </tr>\n",
       "    <tr>\n",
       "      <th>1</th>\n",
       "      <td>text</td>\n",
       "      <td>JSON</td>\n",
       "      <td>read_json</td>\n",
       "      <td>to_json</td>\n",
       "    </tr>\n",
       "    <tr>\n",
       "      <th>2</th>\n",
       "      <td>text</td>\n",
       "      <td>HTML</td>\n",
       "      <td>read_html</td>\n",
       "      <td>to_html</td>\n",
       "    </tr>\n",
       "    <tr>\n",
       "      <th>3</th>\n",
       "      <td>text</td>\n",
       "      <td>Local clipboard</td>\n",
       "      <td>read_clipboard</td>\n",
       "      <td>to_clipboard</td>\n",
       "    </tr>\n",
       "    <tr>\n",
       "      <th>4</th>\n",
       "      <td>binary</td>\n",
       "      <td>MS Excel</td>\n",
       "      <td>read_excel</td>\n",
       "      <td>to_excel</td>\n",
       "    </tr>\n",
       "    <tr>\n",
       "      <th>5</th>\n",
       "      <td>binary</td>\n",
       "      <td>HDF5 Format</td>\n",
       "      <td>read_hdf</td>\n",
       "      <td>to_hdf</td>\n",
       "    </tr>\n",
       "    <tr>\n",
       "      <th>6</th>\n",
       "      <td>binary</td>\n",
       "      <td>Feather Format</td>\n",
       "      <td>read_feather</td>\n",
       "      <td>to_feather</td>\n",
       "    </tr>\n",
       "    <tr>\n",
       "      <th>7</th>\n",
       "      <td>binary</td>\n",
       "      <td>Msgpack</td>\n",
       "      <td>read_msgpack</td>\n",
       "      <td>to_msgpack</td>\n",
       "    </tr>\n",
       "    <tr>\n",
       "      <th>8</th>\n",
       "      <td>binary</td>\n",
       "      <td>Stata</td>\n",
       "      <td>read_stata</td>\n",
       "      <td>to_stata</td>\n",
       "    </tr>\n",
       "    <tr>\n",
       "      <th>9</th>\n",
       "      <td>binary</td>\n",
       "      <td>SAS</td>\n",
       "      <td>read_sas</td>\n",
       "      <td></td>\n",
       "    </tr>\n",
       "    <tr>\n",
       "      <th>10</th>\n",
       "      <td>binary</td>\n",
       "      <td>Python Pickle Format</td>\n",
       "      <td>read_pickle</td>\n",
       "      <td>to_pickle</td>\n",
       "    </tr>\n",
       "    <tr>\n",
       "      <th>11</th>\n",
       "      <td>SQL</td>\n",
       "      <td>SQL</td>\n",
       "      <td>read_sql</td>\n",
       "      <td>to_sql</td>\n",
       "    </tr>\n",
       "    <tr>\n",
       "      <th>12</th>\n",
       "      <td>SQL</td>\n",
       "      <td>Google Big Query</td>\n",
       "      <td>read_gbq</td>\n",
       "      <td>to_gbq</td>\n",
       "    </tr>\n",
       "  </tbody>\n",
       "</table>\n",
       "</div>"
      ],
      "text/plain": [
       "   Format Type      Data Description          Reader        Writer\n",
       "0         text                   CSV        read_csv        to_csv\n",
       "1         text                  JSON       read_json       to_json\n",
       "2         text                  HTML       read_html       to_html\n",
       "3         text       Local clipboard  read_clipboard  to_clipboard\n",
       "4       binary              MS Excel      read_excel      to_excel\n",
       "5       binary           HDF5 Format        read_hdf        to_hdf\n",
       "6       binary        Feather Format    read_feather    to_feather\n",
       "7       binary               Msgpack    read_msgpack    to_msgpack\n",
       "8       binary                 Stata      read_stata      to_stata\n",
       "9       binary                   SAS        read_sas              \n",
       "10      binary  Python Pickle Format     read_pickle     to_pickle\n",
       "11         SQL                   SQL        read_sql        to_sql\n",
       "12         SQL      Google Big Query        read_gbq        to_gbq"
      ]
     },
     "execution_count": 31,
     "metadata": {},
     "output_type": "execute_result"
    }
   ],
   "source": [
    "df2"
   ]
  },
  {
   "cell_type": "code",
   "execution_count": 32,
   "metadata": {
    "collapsed": false
   },
   "outputs": [
    {
     "data": {
      "text/plain": [
       "'{\"Format Type\":{\"0\":\"text\",\"1\":\"text\",\"2\":\"text\",\"3\":\"text\",\"4\":\"binary\",\"5\":\"binary\",\"6\":\"binary\",\"7\":\"binary\",\"8\":\"binary\",\"9\":\"binary\",\"10\":\"binary\",\"11\":\"SQL\",\"12\":\"SQL\"},\"Data Description\":{\"0\":\"CSV\",\"1\":\"JSON\",\"2\":\"HTML\",\"3\":\"Local clipboard\",\"4\":\"MS Excel\",\"5\":\"HDF5 Format\",\"6\":\"Feather Format\",\"7\":\"Msgpack\",\"8\":\"Stata\",\"9\":\"SAS\",\"10\":\"Python Pickle Format\",\"11\":\"SQL\",\"12\":\"Google Big Query\"},\"Reader\":{\"0\":\"read_csv\",\"1\":\"read_json\",\"2\":\"read_html\",\"3\":\"read_clipboard\",\"4\":\"read_excel\",\"5\":\"read_hdf\",\"6\":\"read_feather\",\"7\":\"read_msgpack\",\"8\":\"read_stata\",\"9\":\"read_sas\",\"10\":\"read_pickle\",\"11\":\"read_sql\",\"12\":\"read_gbq\"},\"Writer\":{\"0\":\"to_csv\",\"1\":\"to_json\",\"2\":\"to_html\",\"3\":\"to_clipboard\",\"4\":\"to_excel\",\"5\":\"to_hdf\",\"6\":\"to_feather\",\"7\":\"to_msgpack\",\"8\":\"to_stata\",\"9\":\" \",\"10\":\"to_pickle\",\"11\":\"to_sql\",\"12\":\"to_gbq\"}}'"
      ]
     },
     "execution_count": 32,
     "metadata": {},
     "output_type": "execute_result"
    }
   ],
   "source": [
    "# dataframe与json数据转化\n",
    "df1.to_json()"
   ]
  },
  {
   "cell_type": "code",
   "execution_count": 33,
   "metadata": {
    "collapsed": false
   },
   "outputs": [
    {
     "data": {
      "text/html": [
       "<div>\n",
       "<table border=\"1\" class=\"dataframe\">\n",
       "  <thead>\n",
       "    <tr style=\"text-align: right;\">\n",
       "      <th></th>\n",
       "      <th>Data Description</th>\n",
       "      <th>Format Type</th>\n",
       "      <th>Reader</th>\n",
       "      <th>Writer</th>\n",
       "    </tr>\n",
       "  </thead>\n",
       "  <tbody>\n",
       "    <tr>\n",
       "      <th>0</th>\n",
       "      <td>CSV</td>\n",
       "      <td>text</td>\n",
       "      <td>read_csv</td>\n",
       "      <td>to_csv</td>\n",
       "    </tr>\n",
       "    <tr>\n",
       "      <th>1</th>\n",
       "      <td>JSON</td>\n",
       "      <td>text</td>\n",
       "      <td>read_json</td>\n",
       "      <td>to_json</td>\n",
       "    </tr>\n",
       "    <tr>\n",
       "      <th>10</th>\n",
       "      <td>Python Pickle Format</td>\n",
       "      <td>binary</td>\n",
       "      <td>read_pickle</td>\n",
       "      <td>to_pickle</td>\n",
       "    </tr>\n",
       "    <tr>\n",
       "      <th>11</th>\n",
       "      <td>SQL</td>\n",
       "      <td>SQL</td>\n",
       "      <td>read_sql</td>\n",
       "      <td>to_sql</td>\n",
       "    </tr>\n",
       "    <tr>\n",
       "      <th>12</th>\n",
       "      <td>Google Big Query</td>\n",
       "      <td>SQL</td>\n",
       "      <td>read_gbq</td>\n",
       "      <td>to_gbq</td>\n",
       "    </tr>\n",
       "    <tr>\n",
       "      <th>2</th>\n",
       "      <td>HTML</td>\n",
       "      <td>text</td>\n",
       "      <td>read_html</td>\n",
       "      <td>to_html</td>\n",
       "    </tr>\n",
       "    <tr>\n",
       "      <th>3</th>\n",
       "      <td>Local clipboard</td>\n",
       "      <td>text</td>\n",
       "      <td>read_clipboard</td>\n",
       "      <td>to_clipboard</td>\n",
       "    </tr>\n",
       "    <tr>\n",
       "      <th>4</th>\n",
       "      <td>MS Excel</td>\n",
       "      <td>binary</td>\n",
       "      <td>read_excel</td>\n",
       "      <td>to_excel</td>\n",
       "    </tr>\n",
       "    <tr>\n",
       "      <th>5</th>\n",
       "      <td>HDF5 Format</td>\n",
       "      <td>binary</td>\n",
       "      <td>read_hdf</td>\n",
       "      <td>to_hdf</td>\n",
       "    </tr>\n",
       "    <tr>\n",
       "      <th>6</th>\n",
       "      <td>Feather Format</td>\n",
       "      <td>binary</td>\n",
       "      <td>read_feather</td>\n",
       "      <td>to_feather</td>\n",
       "    </tr>\n",
       "    <tr>\n",
       "      <th>7</th>\n",
       "      <td>Msgpack</td>\n",
       "      <td>binary</td>\n",
       "      <td>read_msgpack</td>\n",
       "      <td>to_msgpack</td>\n",
       "    </tr>\n",
       "    <tr>\n",
       "      <th>8</th>\n",
       "      <td>Stata</td>\n",
       "      <td>binary</td>\n",
       "      <td>read_stata</td>\n",
       "      <td>to_stata</td>\n",
       "    </tr>\n",
       "    <tr>\n",
       "      <th>9</th>\n",
       "      <td>SAS</td>\n",
       "      <td>binary</td>\n",
       "      <td>read_sas</td>\n",
       "      <td></td>\n",
       "    </tr>\n",
       "  </tbody>\n",
       "</table>\n",
       "</div>"
      ],
      "text/plain": [
       "        Data Description Format Type          Reader        Writer\n",
       "0                    CSV        text        read_csv        to_csv\n",
       "1                   JSON        text       read_json       to_json\n",
       "10  Python Pickle Format      binary     read_pickle     to_pickle\n",
       "11                   SQL         SQL        read_sql        to_sql\n",
       "12      Google Big Query         SQL        read_gbq        to_gbq\n",
       "2                   HTML        text       read_html       to_html\n",
       "3        Local clipboard        text  read_clipboard  to_clipboard\n",
       "4               MS Excel      binary      read_excel      to_excel\n",
       "5            HDF5 Format      binary        read_hdf        to_hdf\n",
       "6         Feather Format      binary    read_feather    to_feather\n",
       "7                Msgpack      binary    read_msgpack    to_msgpack\n",
       "8                  Stata      binary      read_stata      to_stata\n",
       "9                    SAS      binary        read_sas              "
      ]
     },
     "execution_count": 33,
     "metadata": {},
     "output_type": "execute_result"
    }
   ],
   "source": [
    "pd.read_json(df1.to_json())"
   ]
  },
  {
   "cell_type": "code",
   "execution_count": 34,
   "metadata": {
    "collapsed": true
   },
   "outputs": [],
   "source": [
    "df1.to_html('df1.html')"
   ]
  },
  {
   "cell_type": "code",
   "execution_count": 35,
   "metadata": {
    "collapsed": true
   },
   "outputs": [],
   "source": [
    "df1.to_excel('df1.xlsx')"
   ]
  },
  {
   "cell_type": "code",
   "execution_count": 36,
   "metadata": {
    "collapsed": false
   },
   "outputs": [
    {
     "name": "stdout",
     "output_type": "stream",
     "text": [
      " 驱动器 E 中的卷是 资料\n",
      " 卷的序列号是 9680-46FC\n",
      "\n",
      " E:\\DeepLearning\\jupyter_code\\jupyter notebook\\python数据分析实战 的目录\n",
      "\n",
      "2018/09/21  20:36    <DIR>          .\n",
      "2018/09/21  20:36    <DIR>          ..\n",
      "2018/09/21  20:08    <DIR>          .ipynb_checkpoints\n",
      "2018/09/21  15:28             2,331 1.Anaconda与Jupyter notebook介绍.ipynb\n",
      "2018/09/21  15:38             1,396 2.矩阵运算.ipynb\n",
      "2018/09/21  15:48             8,408 3.Array的创建及访问.ipynb\n",
      "2018/09/21  15:58            13,397 4.数组与矩阵运算.ipynb\n",
      "2018/09/21  16:08             7,413 5.Array中的input和output.ipynb\n",
      "2018/09/21  16:17             7,713 6.Series.ipynb\n",
      "2018/09/21  16:42            44,744 7.DataFrame.ipynb\n",
      "2018/09/21  20:07            16,471 8.深入理解Series和DataFrame.ipynb\n",
      "2018/09/21  20:34            21,232 9.Pandas-DataFrame-IO操作.ipynb\n",
      "2018/09/21  20:34               509 df1.csv\n",
      "2018/09/21  20:34             2,057 df1.html\n",
      "2018/09/21  20:36             6,007 df1.xlsx\n",
      "2018/09/21  16:06               120 one_array.npy\n",
      "2018/09/21  16:08               474 two_array.npz\n",
      "2018/09/21  16:05               195 x.pkl\n",
      "              15 个文件        132,467 字节\n",
      "               3 个目录 95,594,098,688 可用字节\n"
     ]
    }
   ],
   "source": [
    "ls"
   ]
  },
  {
   "cell_type": "code",
   "execution_count": null,
   "metadata": {
    "collapsed": true
   },
   "outputs": [],
   "source": []
  }
 ],
 "metadata": {
  "anaconda-cloud": {},
  "kernelspec": {
   "display_name": "Python [conda env:Anaconda3]",
   "language": "python",
   "name": "conda-env-Anaconda3-py"
  },
  "language_info": {
   "codemirror_mode": {
    "name": "ipython",
    "version": 3
   },
   "file_extension": ".py",
   "mimetype": "text/x-python",
   "name": "python",
   "nbconvert_exporter": "python",
   "pygments_lexer": "ipython3",
   "version": "3.5.2"
  }
 },
 "nbformat": 4,
 "nbformat_minor": 1
}
